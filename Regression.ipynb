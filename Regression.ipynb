{
  "cells": [
    {
      "cell_type": "markdown",
      "metadata": {
        "id": "Rh5fTEC4ssDv"
      },
      "source": [
        "# PROJECT PART 1 - REGRESSION\n",
        "\n",
        "Professor: Patrick Waelbroeck\n",
        "\n",
        "Students:\n",
        "\n",
        "- Gabriel de Souza Oliva\n",
        "- Isabella de Melo Sousa\n",
        "\n",
        "Date: 22/11/2020\n",
        "\n",
        "This contains both the code and the text answers to the questions of the project."
      ]
    },
    {
      "cell_type": "markdown",
      "metadata": {
        "id": "zVlHCBQDssDx"
      },
      "source": [
        "## 1. Lire le fichier mroz.txt. Ne sélectionner que les observations pour lesquelles la variable wage est strictement positive."
      ]
    },
    {
      "cell_type": "code",
      "execution_count": null,
      "metadata": {
        "id": "8e-1nTG9ssDx"
      },
      "outputs": [],
      "source": [
        "import pandas as pd\n",
        "import numpy as np\n",
        "import matplotlib.pyplot as plt\n",
        "import statsmodels.api as sm\n",
        "from scipy.stats import t\n",
        "from scipy.stats import f"
      ]
    },
    {
      "cell_type": "code",
      "execution_count": null,
      "metadata": {
        "id": "npgvkhlFssDy",
        "outputId": "7a1141fa-3654-42b1-d6ea-942a8dcef2a4"
      },
      "outputs": [
        {
          "name": "stdout",
          "output_type": "stream",
          "text": [
            "<class 'pandas.core.frame.DataFrame'>\n",
            "Int64Index: 428 entries, 0 to 427\n",
            "Data columns (total 22 columns):\n",
            " #   Column    Non-Null Count  Dtype  \n",
            "---  ------    --------------  -----  \n",
            " 0   inlf      428 non-null    int64  \n",
            " 1   hours     428 non-null    int64  \n",
            " 2   kidslt6   428 non-null    int64  \n",
            " 3   kidsge6   428 non-null    int64  \n",
            " 4   age       428 non-null    int64  \n",
            " 5   educ      428 non-null    int64  \n",
            " 6   wage      428 non-null    float64\n",
            " 7   repwage   428 non-null    float64\n",
            " 8   hushrs    428 non-null    int64  \n",
            " 9   husage    428 non-null    int64  \n",
            " 10  huseduc   428 non-null    int64  \n",
            " 11  huswage   428 non-null    float64\n",
            " 12  faminc    428 non-null    int64  \n",
            " 13  mtr       428 non-null    float64\n",
            " 14  motheduc  428 non-null    int64  \n",
            " 15  fatheduc  428 non-null    int64  \n",
            " 16  unem      428 non-null    float64\n",
            " 17  city      428 non-null    int64  \n",
            " 18  exper     428 non-null    int64  \n",
            " 19  nwifeinc  428 non-null    float64\n",
            " 20  lwage     428 non-null    float64\n",
            " 21  expersq   428 non-null    int64  \n",
            "dtypes: float64(7), int64(15)\n",
            "memory usage: 76.9 KB\n",
            "None\n"
          ]
        },
        {
          "data": {
            "text/html": [
              "<div>\n",
              "<style scoped>\n",
              "    .dataframe tbody tr th:only-of-type {\n",
              "        vertical-align: middle;\n",
              "    }\n",
              "\n",
              "    .dataframe tbody tr th {\n",
              "        vertical-align: top;\n",
              "    }\n",
              "\n",
              "    .dataframe thead th {\n",
              "        text-align: right;\n",
              "    }\n",
              "</style>\n",
              "<table border=\"1\" class=\"dataframe\">\n",
              "  <thead>\n",
              "    <tr style=\"text-align: right;\">\n",
              "      <th></th>\n",
              "      <th>inlf</th>\n",
              "      <th>hours</th>\n",
              "      <th>kidslt6</th>\n",
              "      <th>kidsge6</th>\n",
              "      <th>age</th>\n",
              "      <th>educ</th>\n",
              "      <th>wage</th>\n",
              "      <th>repwage</th>\n",
              "      <th>hushrs</th>\n",
              "      <th>husage</th>\n",
              "      <th>...</th>\n",
              "      <th>faminc</th>\n",
              "      <th>mtr</th>\n",
              "      <th>motheduc</th>\n",
              "      <th>fatheduc</th>\n",
              "      <th>unem</th>\n",
              "      <th>city</th>\n",
              "      <th>exper</th>\n",
              "      <th>nwifeinc</th>\n",
              "      <th>lwage</th>\n",
              "      <th>expersq</th>\n",
              "    </tr>\n",
              "  </thead>\n",
              "  <tbody>\n",
              "    <tr>\n",
              "      <th>0</th>\n",
              "      <td>1</td>\n",
              "      <td>1610</td>\n",
              "      <td>1</td>\n",
              "      <td>0</td>\n",
              "      <td>32</td>\n",
              "      <td>12</td>\n",
              "      <td>3.3540</td>\n",
              "      <td>2.65</td>\n",
              "      <td>2708</td>\n",
              "      <td>34</td>\n",
              "      <td>...</td>\n",
              "      <td>16310</td>\n",
              "      <td>0.7215</td>\n",
              "      <td>12</td>\n",
              "      <td>7</td>\n",
              "      <td>5.0</td>\n",
              "      <td>0</td>\n",
              "      <td>14</td>\n",
              "      <td>10.910060</td>\n",
              "      <td>1.210154</td>\n",
              "      <td>196</td>\n",
              "    </tr>\n",
              "    <tr>\n",
              "      <th>1</th>\n",
              "      <td>1</td>\n",
              "      <td>1656</td>\n",
              "      <td>0</td>\n",
              "      <td>2</td>\n",
              "      <td>30</td>\n",
              "      <td>12</td>\n",
              "      <td>1.3889</td>\n",
              "      <td>2.65</td>\n",
              "      <td>2310</td>\n",
              "      <td>30</td>\n",
              "      <td>...</td>\n",
              "      <td>21800</td>\n",
              "      <td>0.6615</td>\n",
              "      <td>7</td>\n",
              "      <td>7</td>\n",
              "      <td>11.0</td>\n",
              "      <td>1</td>\n",
              "      <td>5</td>\n",
              "      <td>19.499980</td>\n",
              "      <td>0.328512</td>\n",
              "      <td>25</td>\n",
              "    </tr>\n",
              "    <tr>\n",
              "      <th>2</th>\n",
              "      <td>1</td>\n",
              "      <td>1980</td>\n",
              "      <td>1</td>\n",
              "      <td>3</td>\n",
              "      <td>35</td>\n",
              "      <td>12</td>\n",
              "      <td>4.5455</td>\n",
              "      <td>4.04</td>\n",
              "      <td>3072</td>\n",
              "      <td>40</td>\n",
              "      <td>...</td>\n",
              "      <td>21040</td>\n",
              "      <td>0.6915</td>\n",
              "      <td>12</td>\n",
              "      <td>7</td>\n",
              "      <td>5.0</td>\n",
              "      <td>0</td>\n",
              "      <td>15</td>\n",
              "      <td>12.039910</td>\n",
              "      <td>1.514138</td>\n",
              "      <td>225</td>\n",
              "    </tr>\n",
              "    <tr>\n",
              "      <th>3</th>\n",
              "      <td>1</td>\n",
              "      <td>456</td>\n",
              "      <td>0</td>\n",
              "      <td>3</td>\n",
              "      <td>34</td>\n",
              "      <td>12</td>\n",
              "      <td>1.0965</td>\n",
              "      <td>3.25</td>\n",
              "      <td>1920</td>\n",
              "      <td>53</td>\n",
              "      <td>...</td>\n",
              "      <td>7300</td>\n",
              "      <td>0.7815</td>\n",
              "      <td>7</td>\n",
              "      <td>7</td>\n",
              "      <td>5.0</td>\n",
              "      <td>0</td>\n",
              "      <td>6</td>\n",
              "      <td>6.799996</td>\n",
              "      <td>0.092123</td>\n",
              "      <td>36</td>\n",
              "    </tr>\n",
              "    <tr>\n",
              "      <th>4</th>\n",
              "      <td>1</td>\n",
              "      <td>1568</td>\n",
              "      <td>1</td>\n",
              "      <td>2</td>\n",
              "      <td>31</td>\n",
              "      <td>14</td>\n",
              "      <td>4.5918</td>\n",
              "      <td>3.60</td>\n",
              "      <td>2000</td>\n",
              "      <td>32</td>\n",
              "      <td>...</td>\n",
              "      <td>27300</td>\n",
              "      <td>0.6215</td>\n",
              "      <td>12</td>\n",
              "      <td>14</td>\n",
              "      <td>9.5</td>\n",
              "      <td>1</td>\n",
              "      <td>7</td>\n",
              "      <td>20.100060</td>\n",
              "      <td>1.524272</td>\n",
              "      <td>49</td>\n",
              "    </tr>\n",
              "    <tr>\n",
              "      <th>...</th>\n",
              "      <td>...</td>\n",
              "      <td>...</td>\n",
              "      <td>...</td>\n",
              "      <td>...</td>\n",
              "      <td>...</td>\n",
              "      <td>...</td>\n",
              "      <td>...</td>\n",
              "      <td>...</td>\n",
              "      <td>...</td>\n",
              "      <td>...</td>\n",
              "      <td>...</td>\n",
              "      <td>...</td>\n",
              "      <td>...</td>\n",
              "      <td>...</td>\n",
              "      <td>...</td>\n",
              "      <td>...</td>\n",
              "      <td>...</td>\n",
              "      <td>...</td>\n",
              "      <td>...</td>\n",
              "      <td>...</td>\n",
              "      <td>...</td>\n",
              "    </tr>\n",
              "    <tr>\n",
              "      <th>423</th>\n",
              "      <td>1</td>\n",
              "      <td>680</td>\n",
              "      <td>0</td>\n",
              "      <td>5</td>\n",
              "      <td>36</td>\n",
              "      <td>10</td>\n",
              "      <td>2.3118</td>\n",
              "      <td>0.00</td>\n",
              "      <td>3430</td>\n",
              "      <td>43</td>\n",
              "      <td>...</td>\n",
              "      <td>19772</td>\n",
              "      <td>0.7215</td>\n",
              "      <td>7</td>\n",
              "      <td>7</td>\n",
              "      <td>7.5</td>\n",
              "      <td>0</td>\n",
              "      <td>2</td>\n",
              "      <td>18.199980</td>\n",
              "      <td>0.838026</td>\n",
              "      <td>4</td>\n",
              "    </tr>\n",
              "    <tr>\n",
              "      <th>424</th>\n",
              "      <td>1</td>\n",
              "      <td>2450</td>\n",
              "      <td>0</td>\n",
              "      <td>1</td>\n",
              "      <td>40</td>\n",
              "      <td>12</td>\n",
              "      <td>5.3061</td>\n",
              "      <td>6.50</td>\n",
              "      <td>2008</td>\n",
              "      <td>40</td>\n",
              "      <td>...</td>\n",
              "      <td>35641</td>\n",
              "      <td>0.6215</td>\n",
              "      <td>7</td>\n",
              "      <td>7</td>\n",
              "      <td>5.0</td>\n",
              "      <td>1</td>\n",
              "      <td>21</td>\n",
              "      <td>22.641060</td>\n",
              "      <td>1.668857</td>\n",
              "      <td>441</td>\n",
              "    </tr>\n",
              "    <tr>\n",
              "      <th>425</th>\n",
              "      <td>1</td>\n",
              "      <td>2144</td>\n",
              "      <td>0</td>\n",
              "      <td>2</td>\n",
              "      <td>43</td>\n",
              "      <td>13</td>\n",
              "      <td>5.8675</td>\n",
              "      <td>0.00</td>\n",
              "      <td>2140</td>\n",
              "      <td>43</td>\n",
              "      <td>...</td>\n",
              "      <td>34220</td>\n",
              "      <td>0.5815</td>\n",
              "      <td>7</td>\n",
              "      <td>7</td>\n",
              "      <td>7.5</td>\n",
              "      <td>1</td>\n",
              "      <td>22</td>\n",
              "      <td>21.640080</td>\n",
              "      <td>1.769429</td>\n",
              "      <td>484</td>\n",
              "    </tr>\n",
              "    <tr>\n",
              "      <th>426</th>\n",
              "      <td>1</td>\n",
              "      <td>1760</td>\n",
              "      <td>0</td>\n",
              "      <td>1</td>\n",
              "      <td>33</td>\n",
              "      <td>12</td>\n",
              "      <td>3.4091</td>\n",
              "      <td>3.21</td>\n",
              "      <td>3380</td>\n",
              "      <td>34</td>\n",
              "      <td>...</td>\n",
              "      <td>30000</td>\n",
              "      <td>0.5815</td>\n",
              "      <td>12</td>\n",
              "      <td>16</td>\n",
              "      <td>11.0</td>\n",
              "      <td>1</td>\n",
              "      <td>14</td>\n",
              "      <td>23.999980</td>\n",
              "      <td>1.226448</td>\n",
              "      <td>196</td>\n",
              "    </tr>\n",
              "    <tr>\n",
              "      <th>427</th>\n",
              "      <td>1</td>\n",
              "      <td>490</td>\n",
              "      <td>0</td>\n",
              "      <td>1</td>\n",
              "      <td>30</td>\n",
              "      <td>12</td>\n",
              "      <td>4.0816</td>\n",
              "      <td>2.46</td>\n",
              "      <td>2430</td>\n",
              "      <td>33</td>\n",
              "      <td>...</td>\n",
              "      <td>18000</td>\n",
              "      <td>0.6915</td>\n",
              "      <td>12</td>\n",
              "      <td>12</td>\n",
              "      <td>7.5</td>\n",
              "      <td>1</td>\n",
              "      <td>7</td>\n",
              "      <td>16.000020</td>\n",
              "      <td>1.406489</td>\n",
              "      <td>49</td>\n",
              "    </tr>\n",
              "  </tbody>\n",
              "</table>\n",
              "<p>428 rows × 22 columns</p>\n",
              "</div>"
            ],
            "text/plain": [
              "     inlf  hours  kidslt6  kidsge6  age  educ    wage  repwage  hushrs  \\\n",
              "0       1   1610        1        0   32    12  3.3540     2.65    2708   \n",
              "1       1   1656        0        2   30    12  1.3889     2.65    2310   \n",
              "2       1   1980        1        3   35    12  4.5455     4.04    3072   \n",
              "3       1    456        0        3   34    12  1.0965     3.25    1920   \n",
              "4       1   1568        1        2   31    14  4.5918     3.60    2000   \n",
              "..    ...    ...      ...      ...  ...   ...     ...      ...     ...   \n",
              "423     1    680        0        5   36    10  2.3118     0.00    3430   \n",
              "424     1   2450        0        1   40    12  5.3061     6.50    2008   \n",
              "425     1   2144        0        2   43    13  5.8675     0.00    2140   \n",
              "426     1   1760        0        1   33    12  3.4091     3.21    3380   \n",
              "427     1    490        0        1   30    12  4.0816     2.46    2430   \n",
              "\n",
              "     husage  ...  faminc     mtr  motheduc  fatheduc  unem  city  exper  \\\n",
              "0        34  ...   16310  0.7215        12         7   5.0     0     14   \n",
              "1        30  ...   21800  0.6615         7         7  11.0     1      5   \n",
              "2        40  ...   21040  0.6915        12         7   5.0     0     15   \n",
              "3        53  ...    7300  0.7815         7         7   5.0     0      6   \n",
              "4        32  ...   27300  0.6215        12        14   9.5     1      7   \n",
              "..      ...  ...     ...     ...       ...       ...   ...   ...    ...   \n",
              "423      43  ...   19772  0.7215         7         7   7.5     0      2   \n",
              "424      40  ...   35641  0.6215         7         7   5.0     1     21   \n",
              "425      43  ...   34220  0.5815         7         7   7.5     1     22   \n",
              "426      34  ...   30000  0.5815        12        16  11.0     1     14   \n",
              "427      33  ...   18000  0.6915        12        12   7.5     1      7   \n",
              "\n",
              "      nwifeinc     lwage  expersq  \n",
              "0    10.910060  1.210154      196  \n",
              "1    19.499980  0.328512       25  \n",
              "2    12.039910  1.514138      225  \n",
              "3     6.799996  0.092123       36  \n",
              "4    20.100060  1.524272       49  \n",
              "..         ...       ...      ...  \n",
              "423  18.199980  0.838026        4  \n",
              "424  22.641060  1.668857      441  \n",
              "425  21.640080  1.769429      484  \n",
              "426  23.999980  1.226448      196  \n",
              "427  16.000020  1.406489       49  \n",
              "\n",
              "[428 rows x 22 columns]"
            ]
          },
          "execution_count": 2,
          "metadata": {},
          "output_type": "execute_result"
        }
      ],
      "source": [
        "df = pd.read_csv('MROZ.txt', delim_whitespace=True, header=None )\n",
        "df.columns = ['inlf', 'hours', 'kidslt6', 'kidsge6', 'age', 'educ', 'wage', 'repwage', 'hushrs','husage','huseduc','huswage','faminc',\n",
        "          'mtr','motheduc','fatheduc','unem','city','exper','nwifeinc','lwage','expersq']\n",
        "df[\"wage\"] = pd.to_numeric(df.wage, errors='coerce')\n",
        "df[\"lwage\"] = pd.to_numeric(df.lwage, errors='coerce')\n",
        "df = df.dropna()\n",
        "df = df.drop(df[df.wage <= 0].index)\n",
        "print(df.info())\n",
        "df"
      ]
    },
    {
      "cell_type": "markdown",
      "metadata": {
        "id": "ih73eW9ussDz"
      },
      "source": [
        "##### Above we can observe the dataframe after importing the data, change wage and lwage types to float64 and drop the observations in which wage is not strictly positive."
      ]
    },
    {
      "cell_type": "markdown",
      "metadata": {
        "id": "xM16XGAOssD0"
      },
      "source": [
        "## 2. Faire les statistiques descriptives du salaire, de l’age et de l’éducation pour l’ensemble des femmes puis, pour les femmes dont le salaire du mari est supérieure à la médiane de l’échantillon, puis pour les femmes dont le salaire du mari est inférieur à la médiane de l’échantillon"
      ]
    },
    {
      "cell_type": "markdown",
      "metadata": {
        "id": "mOVDt4z9ssD0"
      },
      "source": [
        "##### all the women"
      ]
    },
    {
      "cell_type": "code",
      "execution_count": null,
      "metadata": {
        "id": "9wIUKK0IssD0",
        "outputId": "9b0c6af3-16a5-418b-f3f4-b46cf1d03e30"
      },
      "outputs": [
        {
          "data": {
            "text/html": [
              "<div>\n",
              "<style scoped>\n",
              "    .dataframe tbody tr th:only-of-type {\n",
              "        vertical-align: middle;\n",
              "    }\n",
              "\n",
              "    .dataframe tbody tr th {\n",
              "        vertical-align: top;\n",
              "    }\n",
              "\n",
              "    .dataframe thead th {\n",
              "        text-align: right;\n",
              "    }\n",
              "</style>\n",
              "<table border=\"1\" class=\"dataframe\">\n",
              "  <thead>\n",
              "    <tr style=\"text-align: right;\">\n",
              "      <th></th>\n",
              "      <th>wage</th>\n",
              "      <th>age</th>\n",
              "      <th>educ</th>\n",
              "    </tr>\n",
              "  </thead>\n",
              "  <tbody>\n",
              "    <tr>\n",
              "      <th>count</th>\n",
              "      <td>428.000000</td>\n",
              "      <td>428.000000</td>\n",
              "      <td>428.000000</td>\n",
              "    </tr>\n",
              "    <tr>\n",
              "      <th>mean</th>\n",
              "      <td>4.177682</td>\n",
              "      <td>41.971963</td>\n",
              "      <td>12.658879</td>\n",
              "    </tr>\n",
              "    <tr>\n",
              "      <th>std</th>\n",
              "      <td>3.310282</td>\n",
              "      <td>7.721084</td>\n",
              "      <td>2.285376</td>\n",
              "    </tr>\n",
              "    <tr>\n",
              "      <th>min</th>\n",
              "      <td>0.128200</td>\n",
              "      <td>30.000000</td>\n",
              "      <td>5.000000</td>\n",
              "    </tr>\n",
              "    <tr>\n",
              "      <th>25%</th>\n",
              "      <td>2.262600</td>\n",
              "      <td>35.000000</td>\n",
              "      <td>12.000000</td>\n",
              "    </tr>\n",
              "    <tr>\n",
              "      <th>50%</th>\n",
              "      <td>3.481900</td>\n",
              "      <td>42.000000</td>\n",
              "      <td>12.000000</td>\n",
              "    </tr>\n",
              "    <tr>\n",
              "      <th>75%</th>\n",
              "      <td>4.970750</td>\n",
              "      <td>47.250000</td>\n",
              "      <td>14.000000</td>\n",
              "    </tr>\n",
              "    <tr>\n",
              "      <th>max</th>\n",
              "      <td>25.000000</td>\n",
              "      <td>60.000000</td>\n",
              "      <td>17.000000</td>\n",
              "    </tr>\n",
              "  </tbody>\n",
              "</table>\n",
              "</div>"
            ],
            "text/plain": [
              "             wage         age        educ\n",
              "count  428.000000  428.000000  428.000000\n",
              "mean     4.177682   41.971963   12.658879\n",
              "std      3.310282    7.721084    2.285376\n",
              "min      0.128200   30.000000    5.000000\n",
              "25%      2.262600   35.000000   12.000000\n",
              "50%      3.481900   42.000000   12.000000\n",
              "75%      4.970750   47.250000   14.000000\n",
              "max     25.000000   60.000000   17.000000"
            ]
          },
          "execution_count": 3,
          "metadata": {},
          "output_type": "execute_result"
        }
      ],
      "source": [
        "fields = ['wage', 'age', 'educ']\n",
        "df[fields].describe()"
      ]
    },
    {
      "cell_type": "markdown",
      "metadata": {
        "id": "V9bRgG_QssD0"
      },
      "source": [
        "##### women whose husband's salary is greater than the sample median"
      ]
    },
    {
      "cell_type": "code",
      "execution_count": null,
      "metadata": {
        "id": "dC7vM4I_ssD1",
        "outputId": "f46cc681-d79a-4b4b-92cd-26db65e77d27"
      },
      "outputs": [
        {
          "data": {
            "text/html": [
              "<div>\n",
              "<style scoped>\n",
              "    .dataframe tbody tr th:only-of-type {\n",
              "        vertical-align: middle;\n",
              "    }\n",
              "\n",
              "    .dataframe tbody tr th {\n",
              "        vertical-align: top;\n",
              "    }\n",
              "\n",
              "    .dataframe thead th {\n",
              "        text-align: right;\n",
              "    }\n",
              "</style>\n",
              "<table border=\"1\" class=\"dataframe\">\n",
              "  <thead>\n",
              "    <tr style=\"text-align: right;\">\n",
              "      <th></th>\n",
              "      <th>wage</th>\n",
              "      <th>age</th>\n",
              "      <th>educ</th>\n",
              "    </tr>\n",
              "  </thead>\n",
              "  <tbody>\n",
              "    <tr>\n",
              "      <th>count</th>\n",
              "      <td>380.000000</td>\n",
              "      <td>380.000000</td>\n",
              "      <td>380.000000</td>\n",
              "    </tr>\n",
              "    <tr>\n",
              "      <th>mean</th>\n",
              "      <td>4.209165</td>\n",
              "      <td>41.973684</td>\n",
              "      <td>12.684211</td>\n",
              "    </tr>\n",
              "    <tr>\n",
              "      <th>std</th>\n",
              "      <td>3.335807</td>\n",
              "      <td>7.674743</td>\n",
              "      <td>2.299538</td>\n",
              "    </tr>\n",
              "    <tr>\n",
              "      <th>min</th>\n",
              "      <td>0.128200</td>\n",
              "      <td>30.000000</td>\n",
              "      <td>5.000000</td>\n",
              "    </tr>\n",
              "    <tr>\n",
              "      <th>25%</th>\n",
              "      <td>2.274725</td>\n",
              "      <td>35.000000</td>\n",
              "      <td>12.000000</td>\n",
              "    </tr>\n",
              "    <tr>\n",
              "      <th>50%</th>\n",
              "      <td>3.566500</td>\n",
              "      <td>43.000000</td>\n",
              "      <td>12.000000</td>\n",
              "    </tr>\n",
              "    <tr>\n",
              "      <th>75%</th>\n",
              "      <td>5.089100</td>\n",
              "      <td>47.000000</td>\n",
              "      <td>14.000000</td>\n",
              "    </tr>\n",
              "    <tr>\n",
              "      <th>max</th>\n",
              "      <td>25.000000</td>\n",
              "      <td>60.000000</td>\n",
              "      <td>17.000000</td>\n",
              "    </tr>\n",
              "  </tbody>\n",
              "</table>\n",
              "</div>"
            ],
            "text/plain": [
              "             wage         age        educ\n",
              "count  380.000000  380.000000  380.000000\n",
              "mean     4.209165   41.973684   12.684211\n",
              "std      3.335807    7.674743    2.299538\n",
              "min      0.128200   30.000000    5.000000\n",
              "25%      2.274725   35.000000   12.000000\n",
              "50%      3.566500   43.000000   12.000000\n",
              "75%      5.089100   47.000000   14.000000\n",
              "max     25.000000   60.000000   17.000000"
            ]
          },
          "execution_count": 4,
          "metadata": {},
          "output_type": "execute_result"
        }
      ],
      "source": [
        "df_fields = df[fields]\n",
        "df_fields[df['huswage'] > df['wage'].median()]. describe()"
      ]
    },
    {
      "cell_type": "markdown",
      "metadata": {
        "id": "3rpNqzVmssD1"
      },
      "source": [
        "#### women whose husband's salary is lower than the sample median"
      ]
    },
    {
      "cell_type": "code",
      "execution_count": null,
      "metadata": {
        "id": "JvTsJbS1ssD1",
        "outputId": "e970c6cc-6857-4966-e1b3-1f1e9edff9a7"
      },
      "outputs": [
        {
          "data": {
            "text/html": [
              "<div>\n",
              "<style scoped>\n",
              "    .dataframe tbody tr th:only-of-type {\n",
              "        vertical-align: middle;\n",
              "    }\n",
              "\n",
              "    .dataframe tbody tr th {\n",
              "        vertical-align: top;\n",
              "    }\n",
              "\n",
              "    .dataframe thead th {\n",
              "        text-align: right;\n",
              "    }\n",
              "</style>\n",
              "<table border=\"1\" class=\"dataframe\">\n",
              "  <thead>\n",
              "    <tr style=\"text-align: right;\">\n",
              "      <th></th>\n",
              "      <th>wage</th>\n",
              "      <th>age</th>\n",
              "      <th>educ</th>\n",
              "    </tr>\n",
              "  </thead>\n",
              "  <tbody>\n",
              "    <tr>\n",
              "      <th>count</th>\n",
              "      <td>48.000000</td>\n",
              "      <td>48.000000</td>\n",
              "      <td>48.000000</td>\n",
              "    </tr>\n",
              "    <tr>\n",
              "      <th>mean</th>\n",
              "      <td>3.928438</td>\n",
              "      <td>41.958333</td>\n",
              "      <td>12.458333</td>\n",
              "    </tr>\n",
              "    <tr>\n",
              "      <th>std</th>\n",
              "      <td>3.122774</td>\n",
              "      <td>8.163120</td>\n",
              "      <td>2.182701</td>\n",
              "    </tr>\n",
              "    <tr>\n",
              "      <th>min</th>\n",
              "      <td>1.201900</td>\n",
              "      <td>30.000000</td>\n",
              "      <td>8.000000</td>\n",
              "    </tr>\n",
              "    <tr>\n",
              "      <th>25%</th>\n",
              "      <td>2.135750</td>\n",
              "      <td>35.000000</td>\n",
              "      <td>11.750000</td>\n",
              "    </tr>\n",
              "    <tr>\n",
              "      <th>50%</th>\n",
              "      <td>2.945800</td>\n",
              "      <td>40.500000</td>\n",
              "      <td>12.000000</td>\n",
              "    </tr>\n",
              "    <tr>\n",
              "      <th>75%</th>\n",
              "      <td>4.352375</td>\n",
              "      <td>49.250000</td>\n",
              "      <td>14.000000</td>\n",
              "    </tr>\n",
              "    <tr>\n",
              "      <th>max</th>\n",
              "      <td>18.267000</td>\n",
              "      <td>59.000000</td>\n",
              "      <td>16.000000</td>\n",
              "    </tr>\n",
              "  </tbody>\n",
              "</table>\n",
              "</div>"
            ],
            "text/plain": [
              "            wage        age       educ\n",
              "count  48.000000  48.000000  48.000000\n",
              "mean    3.928438  41.958333  12.458333\n",
              "std     3.122774   8.163120   2.182701\n",
              "min     1.201900  30.000000   8.000000\n",
              "25%     2.135750  35.000000  11.750000\n",
              "50%     2.945800  40.500000  12.000000\n",
              "75%     4.352375  49.250000  14.000000\n",
              "max    18.267000  59.000000  16.000000"
            ]
          },
          "execution_count": 5,
          "metadata": {},
          "output_type": "execute_result"
        }
      ],
      "source": [
        "df_fields[df['huswage'] < df['wage'].median()]. describe()"
      ]
    },
    {
      "cell_type": "markdown",
      "metadata": {
        "id": "q2SGZ6ahssD1"
      },
      "source": [
        "## 3. Faire l'histogramme de la variable wage. Calculer le log de wage et faire l'histogramme. Comparez les deux histogrammes et commentez"
      ]
    },
    {
      "cell_type": "code",
      "execution_count": null,
      "metadata": {
        "scrolled": true,
        "id": "ehPVMge3ssD2",
        "outputId": "1bb8372a-8689-4928-b0fa-47cda58186c8"
      },
      "outputs": [
        {
          "data": {
            "text/plain": [
              "Text(0.5, 1.0, 'Histogram of wage')"
            ]
          },
          "execution_count": 6,
          "metadata": {},
          "output_type": "execute_result"
        },
        {
          "data": {
            "image/png": "[encoded data removed]",
            "text/plain": [
              "<Figure size 432x288 with 1 Axes>"
            ]
          },
          "metadata": {
            "needs_background": "light"
          },
          "output_type": "display_data"
        }
      ],
      "source": [
        "plt.hist(df['wage'],'auto')\n",
        "plt.title('Histogram of wage')"
      ]
    },
    {
      "cell_type": "code",
      "execution_count": null,
      "metadata": {
        "id": "6XnivBDjssD2",
        "outputId": "59fb0c60-f837-4cde-ed50-760675dccd7e"
      },
      "outputs": [
        {
          "data": {
            "text/plain": [
              "Text(0.5, 1.0, 'Histogram of log(wage)')"
            ]
          },
          "execution_count": 7,
          "metadata": {},
          "output_type": "execute_result"
        },
        {
          "data": {
            "image/png": "[encoded data removed]",
            "text/plain": [
              "<Figure size 432x288 with 1 Axes>"
            ]
          },
          "metadata": {
            "needs_background": "light"
          },
          "output_type": "display_data"
        }
      ],
      "source": [
        "plt.hist(df['lwage'],'auto')\n",
        "plt.title('Histogram of log(wage)')"
      ]
    },
    {
      "cell_type": "markdown",
      "metadata": {
        "id": "kcEnuswRssD2"
      },
      "source": [
        "##### We can observe that the wage's histogram is more close to a exponential distribution while the log(wage)'s histogram is more close to a normal distribution. "
      ]
    },
    {
      "cell_type": "markdown",
      "metadata": {
        "id": "5PUjpfUKssD2"
      },
      "source": [
        "## 4. Calculer les corrélations motheduc et fatheduc. Commentez. Il y a-t-il un problème de multicollinéarité si l'on utilise ces variables comme variables explicatives ?"
      ]
    },
    {
      "cell_type": "code",
      "execution_count": null,
      "metadata": {
        "id": "Hudurws8ssD2",
        "outputId": "0d369113-26b6-4a98-b0bc-34ef64930a50"
      },
      "outputs": [
        {
          "data": {
            "text/plain": [
              "array([[1.        , 0.55406322],\n",
              "       [0.55406322, 1.        ]])"
            ]
          },
          "execution_count": 8,
          "metadata": {},
          "output_type": "execute_result"
        }
      ],
      "source": [
        "motheduc = df['motheduc']\n",
        "fatheduc = df['fatheduc']\n",
        "np.corrcoef(motheduc,fatheduc)"
      ]
    },
    {
      "cell_type": "markdown",
      "metadata": {
        "id": "prGctA6VssD3"
      },
      "source": [
        "#### Yes, multicollinearity is the high (but not perfect) correlation between two or more independent variables and that is exactly the case above in which its possible to see a high correlation of 0.55406322 between motheduc and fatheduc."
      ]
    },
    {
      "cell_type": "markdown",
      "metadata": {
        "id": "qnnMtjsfssD3"
      },
      "source": [
        "## 5. Faites un graphique en nuage de point entre wage et educ, wage et exper, wage et fatheduc. Commentez. S'agit-il d'un effet \"toute chose étant égale par ailleurs ?\"\n"
      ]
    },
    {
      "cell_type": "code",
      "execution_count": null,
      "metadata": {
        "id": "2vESqVsnssD3"
      },
      "outputs": [],
      "source": [
        "wage = df['wage']\n",
        "educ = df['educ']\n",
        "exper = df['exper']"
      ]
    },
    {
      "cell_type": "code",
      "execution_count": null,
      "metadata": {
        "id": "tetCxS17ssD3",
        "outputId": "3adab202-4637-4ee9-8051-bb875a5d9efa"
      },
      "outputs": [
        {
          "data": {
            "image/png": "[encoded data removed]",
            "text/plain": [
              "<Figure size 432x288 with 1 Axes>"
            ]
          },
          "metadata": {
            "needs_background": "light"
          },
          "output_type": "display_data"
        }
      ],
      "source": [
        "plt.scatter(educ,wage)\n",
        "plt.xlabel('educ')\n",
        "plt.ylabel('wage')\n",
        "plt.title('wage vs educ')\n",
        "plt.show()"
      ]
    },
    {
      "cell_type": "code",
      "execution_count": null,
      "metadata": {
        "id": "_Pv9dlKvssD3",
        "outputId": "2ee44d1c-e5ca-4d5a-c980-6a9603be05de"
      },
      "outputs": [
        {
          "data": {
            "image/png": "[encoded data removed]",
            "text/plain": [
              "<Figure size 432x288 with 1 Axes>"
            ]
          },
          "metadata": {
            "needs_background": "light"
          },
          "output_type": "display_data"
        }
      ],
      "source": [
        "plt.scatter(exper,wage)\n",
        "plt.xlabel('exper')\n",
        "plt.ylabel('wage')\n",
        "plt.title('wage vs exper')\n",
        "plt.show()"
      ]
    },
    {
      "cell_type": "code",
      "execution_count": null,
      "metadata": {
        "id": "zGw4JuoZssD4",
        "outputId": "191c16d1-d8e8-4a1c-f09d-60b028d02193"
      },
      "outputs": [
        {
          "data": {
            "image/png": "[encoded data removed]",
            "text/plain": [
              "<Figure size 432x288 with 1 Axes>"
            ]
          },
          "metadata": {
            "needs_background": "light"
          },
          "output_type": "display_data"
        }
      ],
      "source": [
        "plt.scatter(fatheduc,wage)\n",
        "plt.xlabel('fatheduc')\n",
        "plt.ylabel('wage')\n",
        "plt.title('wage vs fatheduc')\n",
        "plt.show()"
      ]
    },
    {
      "cell_type": "markdown",
      "metadata": {
        "id": "IQOkDxu9ssD4"
      },
      "source": [
        "#### S'agit-il d'un effet \"toute chose étant égale par ailleurs ?\" The notion of ceteris paribus—which means “other (relevant) factors being equal”\n",
        "\n",
        "#### No, the ceteris paribus is not respected because there is correlation between the variables (exper and educ, for example, as we can see below) and therefore the parameters have influence on each other."
      ]
    },
    {
      "cell_type": "code",
      "execution_count": null,
      "metadata": {
        "id": "kgM0tsXXssD4",
        "outputId": "87a577fd-9ecd-48a1-a9d3-5f3107e0dfa8"
      },
      "outputs": [
        {
          "data": {
            "text/plain": [
              "array([[ 1.        , -0.01520617],\n",
              "       [-0.01520617,  1.        ]])"
            ]
          },
          "execution_count": 13,
          "metadata": {},
          "output_type": "execute_result"
        }
      ],
      "source": [
        "np.corrcoef(exper,educ)"
      ]
    },
    {
      "cell_type": "markdown",
      "metadata": {
        "id": "-myOMPm2ssD4"
      },
      "source": [
        "## 6. Quelle est l'hypothèse fondamentale qui garantit des estimateurs non biaisés ? Expliquer le biais de variable omise"
      ]
    },
    {
      "cell_type": "markdown",
      "metadata": {
        "id": "KSFg2-VPssD4"
      },
      "source": [
        "- The fundamental hypothesis for assuring the unbiasedness of the estimateurs consists in four assumptions: MLR is linear in parameters ; random sampling ; no perfect collinearity and zero conditional mean, $E(u|x_1, x_2, ..., x_k) = 0$.\n",
        "\n",
        "- Omitted variable bias is the bias in the OLS estimator that arises when the regressor, X, is correlated with an omitted variable. For that to occur, two conditions must be fulfilled:\n",
        "\n",
        "  1) X is correlated with the omitted variable;\n",
        "  \n",
        "  2) The omitted variable is a determinant of the dependent variable Y."
      ]
    },
    {
      "cell_type": "markdown",
      "metadata": {
        "id": "EIfU-gS3ssD4"
      },
      "source": [
        "### 7. Faire la régression de wage en utilisant les variables explicatives un constante, city, educ, exper, nwifeinc, kidslt6, kidsgt6. Commentez l'histogramme des résidus. "
      ]
    },
    {
      "cell_type": "markdown",
      "metadata": {
        "id": "WmblloRvssD5"
      },
      "source": [
        "wage = $\\beta_{city}*city$ + $\\beta_{educ}*educ$ + $\\beta_{exper}*exper$ + $\\beta_{nwifeinc}*nwifeinc$ + $\\beta_{kidslt6}*kidslt6$ + $\\beta_{kidsge6}*kidsge6$ + $\\beta_{const}$"
      ]
    },
    {
      "cell_type": "code",
      "execution_count": null,
      "metadata": {
        "id": "FJ6qsJEmssD5"
      },
      "outputs": [],
      "source": [
        "# building the linear model for wage\n",
        "y = df['wage']\n",
        "s = np.shape(y)\n",
        "const = np.ones(s)\n",
        "city = df['city']\n",
        "educ = df['educ']\n",
        "exper = df['exper']\n",
        "nwifeinc = df['nwifeinc']\n",
        "kidslt6 = df['kidslt6']\n",
        "kidsge6 = df['kidsge6']\n",
        "X = np.column_stack((const, city, educ, exper, nwifeinc, kidslt6, kidsge6))"
      ]
    },
    {
      "cell_type": "code",
      "execution_count": null,
      "metadata": {
        "id": "jXh-ll-SssD5",
        "outputId": "5b8abf4d-37ab-4b5a-e5b2-f984ba2e3ed8"
      },
      "outputs": [
        {
          "data": {
            "text/html": [
              "<table class=\"simpletable\">\n",
              "<caption>OLS Regression Results</caption>\n",
              "<tr>\n",
              "  <th>Dep. Variable:</th>          <td>wage</td>       <th>  R-squared:         </th> <td>   0.127</td>\n",
              "</tr>\n",
              "<tr>\n",
              "  <th>Model:</th>                   <td>OLS</td>       <th>  Adj. R-squared:    </th> <td>   0.115</td>\n",
              "</tr>\n",
              "<tr>\n",
              "  <th>Method:</th>             <td>Least Squares</td>  <th>  F-statistic:       </th> <td>   10.23</td>\n",
              "</tr>\n",
              "<tr>\n",
              "  <th>Date:</th>             <td>Sun, 22 Nov 2020</td> <th>  Prob (F-statistic):</th> <td>1.41e-10</td>\n",
              "</tr>\n",
              "<tr>\n",
              "  <th>Time:</th>                 <td>22:40:43</td>     <th>  Log-Likelihood:    </th> <td> -1090.0</td>\n",
              "</tr>\n",
              "<tr>\n",
              "  <th>No. Observations:</th>      <td>   428</td>      <th>  AIC:               </th> <td>   2194.</td>\n",
              "</tr>\n",
              "<tr>\n",
              "  <th>Df Residuals:</th>          <td>   421</td>      <th>  BIC:               </th> <td>   2222.</td>\n",
              "</tr>\n",
              "<tr>\n",
              "  <th>Df Model:</th>              <td>     6</td>      <th>                     </th>     <td> </td>   \n",
              "</tr>\n",
              "<tr>\n",
              "  <th>Covariance Type:</th>      <td>nonrobust</td>    <th>                     </th>     <td> </td>   \n",
              "</tr>\n",
              "</table>\n",
              "<table class=\"simpletable\">\n",
              "<tr>\n",
              "    <td></td>       <th>coef</th>     <th>std err</th>      <th>t</th>      <th>P>|t|</th>  <th>[0.025</th>    <th>0.975]</th>  \n",
              "</tr>\n",
              "<tr>\n",
              "  <th>const</th> <td>   -2.4035</td> <td>    0.963</td> <td>   -2.495</td> <td> 0.013</td> <td>   -4.297</td> <td>   -0.510</td>\n",
              "</tr>\n",
              "<tr>\n",
              "  <th>x1</th>    <td>    0.3698</td> <td>    0.327</td> <td>    1.132</td> <td> 0.258</td> <td>   -0.272</td> <td>    1.012</td>\n",
              "</tr>\n",
              "<tr>\n",
              "  <th>x2</th>    <td>    0.4600</td> <td>    0.070</td> <td>    6.546</td> <td> 0.000</td> <td>    0.322</td> <td>    0.598</td>\n",
              "</tr>\n",
              "<tr>\n",
              "  <th>x3</th>    <td>    0.0238</td> <td>    0.021</td> <td>    1.141</td> <td> 0.255</td> <td>   -0.017</td> <td>    0.065</td>\n",
              "</tr>\n",
              "<tr>\n",
              "  <th>x4</th>    <td>    0.0152</td> <td>    0.015</td> <td>    0.984</td> <td> 0.326</td> <td>   -0.015</td> <td>    0.046</td>\n",
              "</tr>\n",
              "<tr>\n",
              "  <th>x5</th>    <td>    0.0362</td> <td>    0.397</td> <td>    0.091</td> <td> 0.927</td> <td>   -0.744</td> <td>    0.816</td>\n",
              "</tr>\n",
              "<tr>\n",
              "  <th>x6</th>    <td>   -0.0619</td> <td>    0.125</td> <td>   -0.494</td> <td> 0.622</td> <td>   -0.308</td> <td>    0.185</td>\n",
              "</tr>\n",
              "</table>\n",
              "<table class=\"simpletable\">\n",
              "<tr>\n",
              "  <th>Omnibus:</th>       <td>345.825</td> <th>  Durbin-Watson:     </th> <td>   2.056</td>\n",
              "</tr>\n",
              "<tr>\n",
              "  <th>Prob(Omnibus):</th> <td> 0.000</td>  <th>  Jarque-Bera (JB):  </th> <td>6499.375</td>\n",
              "</tr>\n",
              "<tr>\n",
              "  <th>Skew:</th>          <td> 3.389</td>  <th>  Prob(JB):          </th> <td>    0.00</td>\n",
              "</tr>\n",
              "<tr>\n",
              "  <th>Kurtosis:</th>      <td>20.847</td>  <th>  Cond. No.          </th> <td>    178.</td>\n",
              "</tr>\n",
              "</table><br/><br/>Warnings:<br/>[1] Standard Errors assume that the covariance matrix of the errors is correctly specified."
            ],
            "text/plain": [
              "<class 'statsmodels.iolib.summary.Summary'>\n",
              "\"\"\"\n",
              "                            OLS Regression Results                            \n",
              "==============================================================================\n",
              "Dep. Variable:                   wage   R-squared:                       0.127\n",
              "Model:                            OLS   Adj. R-squared:                  0.115\n",
              "Method:                 Least Squares   F-statistic:                     10.23\n",
              "Date:                Sun, 22 Nov 2020   Prob (F-statistic):           1.41e-10\n",
              "Time:                        22:40:43   Log-Likelihood:                -1090.0\n",
              "No. Observations:                 428   AIC:                             2194.\n",
              "Df Residuals:                     421   BIC:                             2222.\n",
              "Df Model:                           6                                         \n",
              "Covariance Type:            nonrobust                                         \n",
              "==============================================================================\n",
              "                 coef    std err          t      P>|t|      [0.025      0.975]\n",
              "------------------------------------------------------------------------------\n",
              "const         -2.4035      0.963     -2.495      0.013      -4.297      -0.510\n",
              "x1             0.3698      0.327      1.132      0.258      -0.272       1.012\n",
              "x2             0.4600      0.070      6.546      0.000       0.322       0.598\n",
              "x3             0.0238      0.021      1.141      0.255      -0.017       0.065\n",
              "x4             0.0152      0.015      0.984      0.326      -0.015       0.046\n",
              "x5             0.0362      0.397      0.091      0.927      -0.744       0.816\n",
              "x6            -0.0619      0.125     -0.494      0.622      -0.308       0.185\n",
              "==============================================================================\n",
              "Omnibus:                      345.825   Durbin-Watson:                   2.056\n",
              "Prob(Omnibus):                  0.000   Jarque-Bera (JB):             6499.375\n",
              "Skew:                           3.389   Prob(JB):                         0.00\n",
              "Kurtosis:                      20.847   Cond. No.                         178.\n",
              "==============================================================================\n",
              "\n",
              "Warnings:\n",
              "[1] Standard Errors assume that the covariance matrix of the errors is correctly specified.\n",
              "\"\"\""
            ]
          },
          "execution_count": 15,
          "metadata": {},
          "output_type": "execute_result"
        }
      ],
      "source": [
        "# regression using statsmodel\n",
        "model=sm.OLS(y,X)\n",
        "results = model.fit()\n",
        "results.summary()"
      ]
    },
    {
      "cell_type": "code",
      "execution_count": null,
      "metadata": {
        "id": "Vma_5utHssD5",
        "outputId": "833a31cf-9f5a-4675-e51b-bb00993a39e1"
      },
      "outputs": [
        {
          "data": {
            "image/png": "[encoded data removed]",
            "text/plain": [
              "<Figure size 432x288 with 1 Axes>"
            ]
          },
          "metadata": {
            "needs_background": "light"
          },
          "output_type": "display_data"
        }
      ],
      "source": [
        "u=results.resid\n",
        "# plotting the histogram \n",
        "plt.hist(u, \"auto\")\n",
        "plt.title('Histogram of wage residuals')\n",
        "plt.show()"
      ]
    },
    {
      "cell_type": "markdown",
      "metadata": {
        "id": "SCjwu4XjssD5"
      },
      "source": [
        "#### We can observe that the histogram has a format close to the exponential distribution with the residuals generally contained between [-5,5] We can also note some outliers close to x=15 and x=20."
      ]
    },
    {
      "cell_type": "markdown",
      "metadata": {
        "id": "JQsrBGQ7ssD5"
      },
      "source": [
        "### 8. Faire la régrssion de lwage sur une constante, city, educ, exper, nwifeinc, kidslt6, kidsgt6. Comparer l’histogramme obtenu à celui de la question 7"
      ]
    },
    {
      "cell_type": "code",
      "execution_count": null,
      "metadata": {
        "id": "BBevOJwossD6"
      },
      "outputs": [],
      "source": [
        "# building the linear model for lwage\n",
        "y = df['lwage']\n",
        "s = np.shape(y)\n",
        "const = np.ones(s)\n",
        "city = df['city']\n",
        "educ = df['educ']\n",
        "exper = df['exper']\n",
        "nwifeinc = df['nwifeinc']\n",
        "kidslt6 = df['kidslt6']\n",
        "kidsge6 = df['kidsge6']\n",
        "X = np.column_stack((const, city, educ, exper, nwifeinc, kidslt6, kidsge6))"
      ]
    },
    {
      "cell_type": "code",
      "execution_count": null,
      "metadata": {
        "id": "Y4WVLB93ssD6",
        "outputId": "fbea2162-673e-4944-9a9a-a152a2a1a7a4"
      },
      "outputs": [
        {
          "data": {
            "text/html": [
              "<table class=\"simpletable\">\n",
              "<caption>OLS Regression Results</caption>\n",
              "<tr>\n",
              "  <th>Dep. Variable:</th>          <td>lwage</td>      <th>  R-squared:         </th> <td>   0.156</td>\n",
              "</tr>\n",
              "<tr>\n",
              "  <th>Model:</th>                   <td>OLS</td>       <th>  Adj. R-squared:    </th> <td>   0.144</td>\n",
              "</tr>\n",
              "<tr>\n",
              "  <th>Method:</th>             <td>Least Squares</td>  <th>  F-statistic:       </th> <td>   12.92</td>\n",
              "</tr>\n",
              "<tr>\n",
              "  <th>Date:</th>             <td>Sun, 22 Nov 2020</td> <th>  Prob (F-statistic):</th> <td>2.00e-13</td>\n",
              "</tr>\n",
              "<tr>\n",
              "  <th>Time:</th>                 <td>22:40:44</td>     <th>  Log-Likelihood:    </th> <td> -431.92</td>\n",
              "</tr>\n",
              "<tr>\n",
              "  <th>No. Observations:</th>      <td>   428</td>      <th>  AIC:               </th> <td>   877.8</td>\n",
              "</tr>\n",
              "<tr>\n",
              "  <th>Df Residuals:</th>          <td>   421</td>      <th>  BIC:               </th> <td>   906.3</td>\n",
              "</tr>\n",
              "<tr>\n",
              "  <th>Df Model:</th>              <td>     6</td>      <th>                     </th>     <td> </td>   \n",
              "</tr>\n",
              "<tr>\n",
              "  <th>Covariance Type:</th>      <td>nonrobust</td>    <th>                     </th>     <td> </td>   \n",
              "</tr>\n",
              "</table>\n",
              "<table class=\"simpletable\">\n",
              "<tr>\n",
              "    <td></td>       <th>coef</th>     <th>std err</th>      <th>t</th>      <th>P>|t|</th>  <th>[0.025</th>    <th>0.975]</th>  \n",
              "</tr>\n",
              "<tr>\n",
              "  <th>const</th> <td>   -0.3990</td> <td>    0.207</td> <td>   -1.927</td> <td> 0.055</td> <td>   -0.806</td> <td>    0.008</td>\n",
              "</tr>\n",
              "<tr>\n",
              "  <th>x1</th>    <td>    0.0353</td> <td>    0.070</td> <td>    0.503</td> <td> 0.616</td> <td>   -0.103</td> <td>    0.173</td>\n",
              "</tr>\n",
              "<tr>\n",
              "  <th>x2</th>    <td>    0.1022</td> <td>    0.015</td> <td>    6.771</td> <td> 0.000</td> <td>    0.073</td> <td>    0.132</td>\n",
              "</tr>\n",
              "<tr>\n",
              "  <th>x3</th>    <td>    0.0155</td> <td>    0.004</td> <td>    3.452</td> <td> 0.001</td> <td>    0.007</td> <td>    0.024</td>\n",
              "</tr>\n",
              "<tr>\n",
              "  <th>x4</th>    <td>    0.0049</td> <td>    0.003</td> <td>    1.466</td> <td> 0.143</td> <td>   -0.002</td> <td>    0.011</td>\n",
              "</tr>\n",
              "<tr>\n",
              "  <th>x5</th>    <td>   -0.0453</td> <td>    0.085</td> <td>   -0.531</td> <td> 0.596</td> <td>   -0.213</td> <td>    0.122</td>\n",
              "</tr>\n",
              "<tr>\n",
              "  <th>x6</th>    <td>   -0.0117</td> <td>    0.027</td> <td>   -0.434</td> <td> 0.664</td> <td>   -0.065</td> <td>    0.041</td>\n",
              "</tr>\n",
              "</table>\n",
              "<table class=\"simpletable\">\n",
              "<tr>\n",
              "  <th>Omnibus:</th>       <td>79.542</td> <th>  Durbin-Watson:     </th> <td>   1.979</td>\n",
              "</tr>\n",
              "<tr>\n",
              "  <th>Prob(Omnibus):</th> <td> 0.000</td> <th>  Jarque-Bera (JB):  </th> <td> 287.193</td>\n",
              "</tr>\n",
              "<tr>\n",
              "  <th>Skew:</th>          <td>-0.795</td> <th>  Prob(JB):          </th> <td>4.33e-63</td>\n",
              "</tr>\n",
              "<tr>\n",
              "  <th>Kurtosis:</th>      <td> 6.685</td> <th>  Cond. No.          </th> <td>    178.</td>\n",
              "</tr>\n",
              "</table><br/><br/>Warnings:<br/>[1] Standard Errors assume that the covariance matrix of the errors is correctly specified."
            ],
            "text/plain": [
              "<class 'statsmodels.iolib.summary.Summary'>\n",
              "\"\"\"\n",
              "                            OLS Regression Results                            \n",
              "==============================================================================\n",
              "Dep. Variable:                  lwage   R-squared:                       0.156\n",
              "Model:                            OLS   Adj. R-squared:                  0.144\n",
              "Method:                 Least Squares   F-statistic:                     12.92\n",
              "Date:                Sun, 22 Nov 2020   Prob (F-statistic):           2.00e-13\n",
              "Time:                        22:40:44   Log-Likelihood:                -431.92\n",
              "No. Observations:                 428   AIC:                             877.8\n",
              "Df Residuals:                     421   BIC:                             906.3\n",
              "Df Model:                           6                                         \n",
              "Covariance Type:            nonrobust                                         \n",
              "==============================================================================\n",
              "                 coef    std err          t      P>|t|      [0.025      0.975]\n",
              "------------------------------------------------------------------------------\n",
              "const         -0.3990      0.207     -1.927      0.055      -0.806       0.008\n",
              "x1             0.0353      0.070      0.503      0.616      -0.103       0.173\n",
              "x2             0.1022      0.015      6.771      0.000       0.073       0.132\n",
              "x3             0.0155      0.004      3.452      0.001       0.007       0.024\n",
              "x4             0.0049      0.003      1.466      0.143      -0.002       0.011\n",
              "x5            -0.0453      0.085     -0.531      0.596      -0.213       0.122\n",
              "x6            -0.0117      0.027     -0.434      0.664      -0.065       0.041\n",
              "==============================================================================\n",
              "Omnibus:                       79.542   Durbin-Watson:                   1.979\n",
              "Prob(Omnibus):                  0.000   Jarque-Bera (JB):              287.193\n",
              "Skew:                          -0.795   Prob(JB):                     4.33e-63\n",
              "Kurtosis:                       6.685   Cond. No.                         178.\n",
              "==============================================================================\n",
              "\n",
              "Warnings:\n",
              "[1] Standard Errors assume that the covariance matrix of the errors is correctly specified.\n",
              "\"\"\""
            ]
          },
          "execution_count": 18,
          "metadata": {},
          "output_type": "execute_result"
        }
      ],
      "source": [
        "# regression using statsmodel\n",
        "model=sm.OLS(y,X)\n",
        "results = model.fit()\n",
        "results.summary()"
      ]
    },
    {
      "cell_type": "code",
      "execution_count": null,
      "metadata": {
        "id": "BtVqS5wzssD6",
        "outputId": "168cb7af-6d2e-4aa2-f747-0218fba385fd"
      },
      "outputs": [
        {
          "data": {
            "image/png": "[encoded data removed]",
            "text/plain": [
              "<Figure size 432x288 with 1 Axes>"
            ]
          },
          "metadata": {
            "needs_background": "light"
          },
          "output_type": "display_data"
        }
      ],
      "source": [
        "# plotting the histogram \n",
        "u = results.resid\n",
        "plt.hist(u, \"auto\")\n",
        "plt.title('Histogram of lwage residuals')\n",
        "plt.show()"
      ]
    },
    {
      "cell_type": "markdown",
      "metadata": {
        "id": "cej_C0L2ssD6"
      },
      "source": [
        "#### By applying log we can observe that the histogram is more close to a normal distribution with the residuals generally contained between [-1,1]. That difference between formats (exponencial for wage) is due to the fact that by applying log we can eliminate the outliers. Therefore,it  is more reasonable to use log(wage) for the following analyses."
      ]
    },
    {
      "cell_type": "markdown",
      "metadata": {
        "id": "xR7pB3rHssD7"
      },
      "source": [
        "## 9. Tester l'hypothèse de non significativité de nwifeinc avec un seuil de significativité de 1%, 5% et 10% (test alternatif des deux côtés). Commentez les p-values. "
      ]
    },
    {
      "cell_type": "markdown",
      "metadata": {
        "id": "Rvu-6WZGssD7"
      },
      "source": [
        "Testing if $\\beta_nwifeinc = 0$"
      ]
    },
    {
      "cell_type": "markdown",
      "metadata": {
        "id": "4IFEUmKassD7"
      },
      "source": [
        "By the OLS regression in question 8 we can see that the p-value for nwifeinc is 0.143.\n",
        "\n",
        "1) If we use a significance level of α = 0.01 (1%), we would fail\n",
        "   to reject the null hypothesis of our hypothesis \n",
        "   test because this p-value is not less than 0.01.\n",
        "   \n",
        "2) If we use a significance level of α = 0.05 (5%), we would fail\n",
        "   to reject the null hypothesis of our hypothesis \n",
        "   test because this p-value is not less than 0.05.\n",
        "   \n",
        "3) If we use a significance level of α = 0.1 (10%), we would fail\n",
        "   to reject the null hypothesis of our hypothesis \n",
        "   test because this p-value is not less than 0.1.\n",
        "  \n",
        "Conclusion: We fail to reject the hypothesis of non significance of our hypothesis test for all 1%, 5% and 10% significance levels."
      ]
    },
    {
      "cell_type": "markdown",
      "metadata": {
        "id": "8Y_WqQ-ZssD7"
      },
      "source": [
        "## 10. Tester l’hypothèse que le coefficient associé à nwifeinc est égal à 0.01 avec un seuil de significativité de 5% (test à alternatif des deux côtés)"
      ]
    },
    {
      "cell_type": "markdown",
      "metadata": {
        "id": "ZdXf250FssD7"
      },
      "source": [
        "Test: $$ H0: \\beta_{nwifeinc} = 0.01 $$"
      ]
    },
    {
      "cell_type": "code",
      "execution_count": null,
      "metadata": {
        "id": "JMP8gwgjssD7",
        "outputId": "bcd89201-8d8e-4e8f-c8c5-17494f9231d5"
      },
      "outputs": [
        {
          "name": "stdout",
          "output_type": "stream",
          "text": [
            "p-value:  0.12519597367688995\n"
          ]
        }
      ],
      "source": [
        "y = df['lwage']\n",
        "s = np.shape(y)\n",
        "const = np.ones(s)\n",
        "city = df['city']\n",
        "educ = df['educ']\n",
        "exper = df['exper']\n",
        "nwifeinc = df['nwifeinc']\n",
        "kidslt6 = df['kidslt6']\n",
        "kidsge6 = df['kidsge6']\n",
        "X = np.column_stack((const, city, educ, exper, nwifeinc, kidslt6, kidsge6))\n",
        "\n",
        "beta = np.linalg.inv(X.T@X)@X.T@y \n",
        "u=y-X@beta\n",
        "n,k=np.shape(X)\n",
        "sig2=u.T@u/(n-k)\n",
        "Var=sig2*np.linalg.inv(X.T @ X)\n",
        "std=np.sqrt(np.diag(Var))\n",
        "\n",
        "test = (beta[4] - 0.01)/std[4]\n",
        "p_value = 2*(1 - t.sf(test,n-k-1))\n",
        "\n",
        "print('p-value: ', p_value)"
      ]
    },
    {
      "cell_type": "markdown",
      "metadata": {
        "id": "OTgmrdTrssD8"
      },
      "source": [
        "#### We fail to reject the null hypothesis of our hypothesis test for 5% significance level because p-value (0.12519597367688995) in not less than 0.05"
      ]
    },
    {
      "cell_type": "markdown",
      "metadata": {
        "id": "ppP2xwWRssD8"
      },
      "source": [
        "## 11. Tester l’hypothèse jointe que le coefficient de nwifeinc est égal à 0.01 et que celui de city est égal à 0.05."
      ]
    },
    {
      "cell_type": "markdown",
      "metadata": {
        "id": "FKS0RDZIssD8"
      },
      "source": [
        "Test: $$ H0 : \\beta_{nwifeinc} = 0.01, \\beta_{city} = 0.05 $$"
      ]
    },
    {
      "cell_type": "code",
      "execution_count": null,
      "metadata": {
        "id": "QwifH2qpssD8"
      },
      "outputs": [],
      "source": [
        "### On doit calculer la somme des carr´es des erreurs du mod`ele non contraint.\n",
        "\n",
        "y = df['lwage']\n",
        "s = np.shape(y)\n",
        "const = np.ones(s)\n",
        "city = df['city']\n",
        "educ = df['educ']\n",
        "exper = df['exper']\n",
        "nwifeinc = df['nwifeinc']\n",
        "kidslt6 = df['kidslt6']\n",
        "kidsge6 = df['kidsge6']\n",
        "X = np.column_stack((const, city, educ, exper, nwifeinc, kidslt6, kidsge6))\n",
        "\n",
        "model=sm.OLS(y,X)\n",
        "results = model.fit()\n",
        "u=results.resid\n",
        "SSR0 = u.T@u"
      ]
    },
    {
      "cell_type": "code",
      "execution_count": null,
      "metadata": {
        "id": "L9qSRLi8ssD9"
      },
      "outputs": [],
      "source": [
        "### Ensuit on doit calculer la somme des carr´es des erreurs du mod`ele contraint.\n",
        "\n",
        "X0=X\n",
        "y = df['lwage'] - 0.01*nwifeinc - 0.05*city\n",
        "X=np.column_stack((const, educ, exper, kidslt6, kidsge6 ))\n",
        "model=sm.OLS(y,X)\n",
        "results = model.fit()\n",
        "u=results.resid\n",
        "SSR1=u.T@u"
      ]
    },
    {
      "cell_type": "code",
      "execution_count": null,
      "metadata": {
        "id": "LeirQjbnssD9",
        "outputId": "18cd7dc1-de56-4d71-ad03-364ba274c2f0"
      },
      "outputs": [
        {
          "name": "stdout",
          "output_type": "stream",
          "text": [
            "p-value:  0.2637267136252716\n"
          ]
        }
      ],
      "source": [
        "### Calcul de la statistique de Fisher F\n",
        "\n",
        "q = 2\n",
        "n,k=np.shape(X0)\n",
        "F=((SSR1-SSR0)/q)/(SSR0/(n-k))\n",
        "p_value = f.sf(F,q,n-k)\n",
        "print('p-value: ', p_value)"
      ]
    },
    {
      "cell_type": "markdown",
      "metadata": {
        "id": "fl8PpQTqssD9"
      },
      "source": [
        "#### We fail to reject the null hypothesis of our hypothesis test for 5% significance level because p-value (0.2637267136252716) is not less than 0.05."
      ]
    },
    {
      "cell_type": "markdown",
      "metadata": {
        "id": "LOfK1-4XssD9"
      },
      "source": [
        "## 12. Faites une représentation graphique de la manière dont le salaire augmente avec l’éducation et l’expérience professionnelle. Commentez"
      ]
    },
    {
      "cell_type": "code",
      "execution_count": null,
      "metadata": {
        "id": "8KXn3rFnssD9",
        "outputId": "d8550643-7079-44fb-e1ad-b71191923fe1"
      },
      "outputs": [
        {
          "data": {
            "image/png": "[encoded data removed]",
            "text/plain": [
              "<Figure size 432x288 with 1 Axes>"
            ]
          },
          "metadata": {
            "needs_background": "light"
          },
          "output_type": "display_data"
        }
      ],
      "source": [
        "plt.scatter(educ,wage)\n",
        "plt.xlabel('educ')\n",
        "plt.ylabel('wage')\n",
        "plt.title('wage vs educ')\n",
        "plt.show()"
      ]
    },
    {
      "cell_type": "code",
      "execution_count": null,
      "metadata": {
        "id": "Mq-V3HjjssD-",
        "outputId": "9720a187-9050-465e-ca10-ee0fb29fa5f1"
      },
      "outputs": [
        {
          "data": {
            "image/png": "[encoded data removed]",
            "text/plain": [
              "<Figure size 432x288 with 1 Axes>"
            ]
          },
          "metadata": {
            "needs_background": "light"
          },
          "output_type": "display_data"
        }
      ],
      "source": [
        "plt.scatter(exper,wage)\n",
        "plt.xlabel('exper')\n",
        "plt.ylabel('wage')\n",
        "plt.title('wage vs exper')\n",
        "plt.show()"
      ]
    },
    {
      "cell_type": "markdown",
      "metadata": {
        "id": "7SdmWZYfssD-"
      },
      "source": [
        "#### By looking at the graphics we can observe that a bigger exper is not that relevant to provide a bigger wage. In relation to educ we can see more consistency in bigger levels of education generating bigger wages. We can confirm that by the correlations below. Exper has correlation close to zero (0.0549915) while educ has a bigger correlation of 0.34195443"
      ]
    },
    {
      "cell_type": "code",
      "execution_count": null,
      "metadata": {
        "id": "Sl5UMrDOssD-",
        "outputId": "9d9dd1ad-b432-4c65-90e8-fe0d547501ca"
      },
      "outputs": [
        {
          "data": {
            "text/plain": [
              "array([[1.       , 0.0549915],\n",
              "       [0.0549915, 1.       ]])"
            ]
          },
          "execution_count": 26,
          "metadata": {},
          "output_type": "execute_result"
        }
      ],
      "source": [
        "np.corrcoef(exper,wage)"
      ]
    },
    {
      "cell_type": "code",
      "execution_count": null,
      "metadata": {
        "id": "mNjq3ExfssD-",
        "outputId": "8990f683-eb4e-4dbf-f1e5-d92ff9d3452e"
      },
      "outputs": [
        {
          "data": {
            "text/plain": [
              "array([[1.        , 0.34195443],\n",
              "       [0.34195443, 1.        ]])"
            ]
          },
          "execution_count": 27,
          "metadata": {},
          "output_type": "execute_result"
        }
      ],
      "source": [
        "np.corrcoef(educ,wage)"
      ]
    },
    {
      "cell_type": "markdown",
      "metadata": {
        "id": "VGEtLa6IssD-"
      },
      "source": [
        "## 13. Tester l’égalité des coefficients associés aux variables kidsgt6 et kidslt6. Interprétez."
      ]
    },
    {
      "cell_type": "markdown",
      "metadata": {
        "id": "GjxVfhTqssD-"
      },
      "source": [
        "Test: $$ H0 : \\beta_{kidsge6} = \\beta_{kidslt6} $$ or $$ H0 : \\beta_{kidsge6} - \\beta_{kidslt6} = 0 $$"
      ]
    },
    {
      "cell_type": "markdown",
      "metadata": {
        "id": "oOxzsxbLssD-"
      },
      "source": [
        "Initial model:\n",
        "\n",
        "wage = $ \\beta_{city}*city$ + $\\beta_{educ}*educ$ + $\\beta_{exper}*exper$ + $\\beta_{nwifeinc}*nwifeinc$ + $\\beta_{kidslt6}*kidslt6$ + $\\beta_{kidsge6}*kidsge6$ + $\\beta_{const}$\n",
        "\n",
        "Defining $\\theta = \\beta_{kidsge6} - \\beta_{kidslt6}$\n",
        "\n",
        "We can write\n",
        "\n",
        "$\\theta +  \\beta_{kidslt6} = \\beta_{kidsge6}$\n",
        "\n",
        "We get the model\n",
        "\n",
        "wage = $ \\beta_{city}*city$ + $\\beta_{educ}*educ$ + $\\beta_{exper}*exper$ + $\\beta_{nwifeinc}*nwifeinc$ + $\\beta_{kidslt6}*kidslt6$ + $(\\theta +  \\beta_{kidslt6})*kidsge6$ + $\\beta_{const}$\n",
        "\n",
        "Which is:\n",
        "\n",
        "wage = $\\theta*kidsge6$ + $ \\beta_{city}*city$ + $\\beta_{educ}*educ$ + $\\beta_{exper}*exper$ + $\\beta_{nwifeinc}*nwifeinc$ + $\\beta_{kidslt6}*(kidslt6 + kidsge6) $ + $\\beta_{const}$\n",
        "\n",
        "Now, we test it for the significance of $\\theta$, which is the same of testing if $\\theta = 0$"
      ]
    },
    {
      "cell_type": "code",
      "execution_count": null,
      "metadata": {
        "id": "7APEKuCBssD_",
        "outputId": "dd596fcb-7cff-4907-e1fe-54ed603351a8"
      },
      "outputs": [
        {
          "data": {
            "text/html": [
              "<table class=\"simpletable\">\n",
              "<caption>OLS Regression Results</caption>\n",
              "<tr>\n",
              "  <th>Dep. Variable:</th>          <td>lwage</td>      <th>  R-squared:         </th> <td>   0.156</td>\n",
              "</tr>\n",
              "<tr>\n",
              "  <th>Model:</th>                   <td>OLS</td>       <th>  Adj. R-squared:    </th> <td>   0.144</td>\n",
              "</tr>\n",
              "<tr>\n",
              "  <th>Method:</th>             <td>Least Squares</td>  <th>  F-statistic:       </th> <td>   12.92</td>\n",
              "</tr>\n",
              "<tr>\n",
              "  <th>Date:</th>             <td>Sun, 22 Nov 2020</td> <th>  Prob (F-statistic):</th> <td>2.00e-13</td>\n",
              "</tr>\n",
              "<tr>\n",
              "  <th>Time:</th>                 <td>22:40:44</td>     <th>  Log-Likelihood:    </th> <td> -431.92</td>\n",
              "</tr>\n",
              "<tr>\n",
              "  <th>No. Observations:</th>      <td>   428</td>      <th>  AIC:               </th> <td>   877.8</td>\n",
              "</tr>\n",
              "<tr>\n",
              "  <th>Df Residuals:</th>          <td>   421</td>      <th>  BIC:               </th> <td>   906.3</td>\n",
              "</tr>\n",
              "<tr>\n",
              "  <th>Df Model:</th>              <td>     6</td>      <th>                     </th>     <td> </td>   \n",
              "</tr>\n",
              "<tr>\n",
              "  <th>Covariance Type:</th>      <td>nonrobust</td>    <th>                     </th>     <td> </td>   \n",
              "</tr>\n",
              "</table>\n",
              "<table class=\"simpletable\">\n",
              "<tr>\n",
              "    <td></td>       <th>coef</th>     <th>std err</th>      <th>t</th>      <th>P>|t|</th>  <th>[0.025</th>    <th>0.975]</th>  \n",
              "</tr>\n",
              "<tr>\n",
              "  <th>const</th> <td>   -0.3990</td> <td>    0.207</td> <td>   -1.927</td> <td> 0.055</td> <td>   -0.806</td> <td>    0.008</td>\n",
              "</tr>\n",
              "<tr>\n",
              "  <th>x1</th>    <td>    0.0336</td> <td>    0.090</td> <td>    0.372</td> <td> 0.710</td> <td>   -0.144</td> <td>    0.211</td>\n",
              "</tr>\n",
              "<tr>\n",
              "  <th>x2</th>    <td>    0.0353</td> <td>    0.070</td> <td>    0.503</td> <td> 0.616</td> <td>   -0.103</td> <td>    0.173</td>\n",
              "</tr>\n",
              "<tr>\n",
              "  <th>x3</th>    <td>    0.1022</td> <td>    0.015</td> <td>    6.771</td> <td> 0.000</td> <td>    0.073</td> <td>    0.132</td>\n",
              "</tr>\n",
              "<tr>\n",
              "  <th>x4</th>    <td>    0.0155</td> <td>    0.004</td> <td>    3.452</td> <td> 0.001</td> <td>    0.007</td> <td>    0.024</td>\n",
              "</tr>\n",
              "<tr>\n",
              "  <th>x5</th>    <td>    0.0049</td> <td>    0.003</td> <td>    1.466</td> <td> 0.143</td> <td>   -0.002</td> <td>    0.011</td>\n",
              "</tr>\n",
              "<tr>\n",
              "  <th>x6</th>    <td>   -0.0453</td> <td>    0.085</td> <td>   -0.531</td> <td> 0.596</td> <td>   -0.213</td> <td>    0.122</td>\n",
              "</tr>\n",
              "</table>\n",
              "<table class=\"simpletable\">\n",
              "<tr>\n",
              "  <th>Omnibus:</th>       <td>79.542</td> <th>  Durbin-Watson:     </th> <td>   1.979</td>\n",
              "</tr>\n",
              "<tr>\n",
              "  <th>Prob(Omnibus):</th> <td> 0.000</td> <th>  Jarque-Bera (JB):  </th> <td> 287.193</td>\n",
              "</tr>\n",
              "<tr>\n",
              "  <th>Skew:</th>          <td>-0.795</td> <th>  Prob(JB):          </th> <td>4.33e-63</td>\n",
              "</tr>\n",
              "<tr>\n",
              "  <th>Kurtosis:</th>      <td> 6.685</td> <th>  Cond. No.          </th> <td>    178.</td>\n",
              "</tr>\n",
              "</table><br/><br/>Warnings:<br/>[1] Standard Errors assume that the covariance matrix of the errors is correctly specified."
            ],
            "text/plain": [
              "<class 'statsmodels.iolib.summary.Summary'>\n",
              "\"\"\"\n",
              "                            OLS Regression Results                            \n",
              "==============================================================================\n",
              "Dep. Variable:                  lwage   R-squared:                       0.156\n",
              "Model:                            OLS   Adj. R-squared:                  0.144\n",
              "Method:                 Least Squares   F-statistic:                     12.92\n",
              "Date:                Sun, 22 Nov 2020   Prob (F-statistic):           2.00e-13\n",
              "Time:                        22:40:44   Log-Likelihood:                -431.92\n",
              "No. Observations:                 428   AIC:                             877.8\n",
              "Df Residuals:                     421   BIC:                             906.3\n",
              "Df Model:                           6                                         \n",
              "Covariance Type:            nonrobust                                         \n",
              "==============================================================================\n",
              "                 coef    std err          t      P>|t|      [0.025      0.975]\n",
              "------------------------------------------------------------------------------\n",
              "const         -0.3990      0.207     -1.927      0.055      -0.806       0.008\n",
              "x1             0.0336      0.090      0.372      0.710      -0.144       0.211\n",
              "x2             0.0353      0.070      0.503      0.616      -0.103       0.173\n",
              "x3             0.1022      0.015      6.771      0.000       0.073       0.132\n",
              "x4             0.0155      0.004      3.452      0.001       0.007       0.024\n",
              "x5             0.0049      0.003      1.466      0.143      -0.002       0.011\n",
              "x6            -0.0453      0.085     -0.531      0.596      -0.213       0.122\n",
              "==============================================================================\n",
              "Omnibus:                       79.542   Durbin-Watson:                   1.979\n",
              "Prob(Omnibus):                  0.000   Jarque-Bera (JB):              287.193\n",
              "Skew:                          -0.795   Prob(JB):                     4.33e-63\n",
              "Kurtosis:                       6.685   Cond. No.                         178.\n",
              "==============================================================================\n",
              "\n",
              "Warnings:\n",
              "[1] Standard Errors assume that the covariance matrix of the errors is correctly specified.\n",
              "\"\"\""
            ]
          },
          "execution_count": 28,
          "metadata": {},
          "output_type": "execute_result"
        }
      ],
      "source": [
        "# Reconstructing the model\n",
        "\n",
        "y = df['lwage']\n",
        "s = np.shape(y)\n",
        "const = np.ones(s)\n",
        "city = df['city']\n",
        "educ = df['educ']\n",
        "exper = df['exper']\n",
        "nwifeinc = df['nwifeinc']\n",
        "kidslt6 = df['kidslt6']\n",
        "kidsge6 = df['kidsge6']\n",
        "\n",
        "X = np.column_stack((const, kidsge6, city, educ, exper, nwifeinc, kidslt6 + kidsge6))\n",
        "model=sm.OLS(y,X)\n",
        "results = model.fit()\n",
        "results.summary()"
      ]
    },
    {
      "cell_type": "markdown",
      "metadata": {
        "id": "oQHAwyNWssD_"
      },
      "source": [
        "#### We fail to reject the null hypothesis of our hypothesis test for 5% significance level because p-value for $\\theta$ (0.710) is not less than 0.05."
      ]
    },
    {
      "cell_type": "markdown",
      "metadata": {
        "id": "oEG8TqbAssD_"
      },
      "source": [
        "## 14. En utilisant le modèle de la question 7, faire le test d'hétéroscédasticité de forme linéaire en donnant la p-valeur. Déterminer la ou les sources d’hétéroscédasticité et corriger avec les méthodes vues en cours. Comparer les écarts-types des coefficients estimés avec ceux obtenus à la question 7. Commenter"
      ]
    },
    {
      "cell_type": "markdown",
      "metadata": {
        "id": "00aoHerDssD_"
      },
      "source": [
        "Test the homokesdacity hypothesis using the regression of u2 depending on the model variables.\n",
        "We must test the global significance of the following regression $u^2 = \\theta_0 + \\theta_1x_1 + \\theta_2x_2 + \\theta_3x_3 + \\theta_4x_4 + \\theta_5x_5 + \\theta_6x_6$.\n",
        "\n",
        "Which means testing:\n",
        "$$H_0: \\theta_0 = \\theta_1 = \\theta_2 = \\theta_3 = \\theta_4  = \\theta_5  = \\theta_6 = 0$$"
      ]
    },
    {
      "cell_type": "code",
      "execution_count": null,
      "metadata": {
        "id": "ucirCaXgssEA",
        "outputId": "a095ae24-b2e0-40de-b2fb-82548f732f6d"
      },
      "outputs": [
        {
          "name": "stdout",
          "output_type": "stream",
          "text": [
            "                            OLS Regression Results                            \n",
            "==============================================================================\n",
            "Dep. Variable:                      y   R-squared:                       0.022\n",
            "Model:                            OLS   Adj. R-squared:                  0.008\n",
            "Method:                 Least Squares   F-statistic:                     1.593\n",
            "Date:                Sun, 22 Nov 2020   Prob (F-statistic):              0.148\n",
            "Time:                        22:40:44   Log-Likelihood:                -2207.4\n",
            "No. Observations:                 428   AIC:                             4429.\n",
            "Df Residuals:                     421   BIC:                             4457.\n",
            "Df Model:                           6                                         \n",
            "Covariance Type:            nonrobust                                         \n",
            "==============================================================================\n",
            "                 coef    std err          t      P>|t|      [0.025      0.975]\n",
            "------------------------------------------------------------------------------\n",
            "const          1.4856     13.111      0.113      0.910     -24.285      27.256\n",
            "x1             5.9644      4.444      1.342      0.180      -2.770      14.699\n",
            "x2             0.8077      0.956      0.845      0.399      -1.072       2.687\n",
            "x3            -0.5341      0.284     -1.880      0.061      -1.093       0.024\n",
            "x4             0.0435      0.211      0.206      0.837      -0.371       0.458\n",
            "x5             4.9573      5.402      0.918      0.359      -5.661      15.575\n",
            "x6            -0.4018      1.706     -0.236      0.814      -3.756       2.952\n",
            "==============================================================================\n",
            "Omnibus:                      638.793   Durbin-Watson:                   2.029\n",
            "Prob(Omnibus):                  0.000   Jarque-Bera (JB):            96122.227\n",
            "Skew:                           8.127   Prob(JB):                         0.00\n",
            "Kurtosis:                      74.595   Cond. No.                         178.\n",
            "==============================================================================\n",
            "\n",
            "Warnings:\n",
            "[1] Standard Errors assume that the covariance matrix of the errors is correctly specified.\n",
            "p-value:  0.14766133314492383\n"
          ]
        }
      ],
      "source": [
        "# model from question 7\n",
        "\n",
        "y = df['wage']\n",
        "s = np.shape(y)\n",
        "const = np.ones(s)\n",
        "city = df['city']\n",
        "educ = df['educ']\n",
        "exper = df['exper']\n",
        "nwifeinc = df['nwifeinc']\n",
        "kidslt6 = df['kidslt6']\n",
        "kidsge6 = df['kidsge6']\n",
        "X0 = np.column_stack((const, city, educ, exper, nwifeinc, kidslt6, kidsge6))\n",
        "\n",
        "model=sm.OLS(y,X0)\n",
        "results = model.fit()\n",
        "\n",
        "# test\n",
        "u=results.resid\n",
        "u2=u**2\n",
        "y=u2\n",
        "model=sm.OLS(y, X0)\n",
        "n,k = np.shape(X0)\n",
        "results = model.fit()\n",
        "print(results.summary())\n",
        "u0 = results.resid\n",
        "SSR0 = u0.T@u0\n",
        "\n",
        "X1 = const.T\n",
        "model = sm.OLS(y, X1)\n",
        "results = model.fit()\n",
        "u1 = results.resid\n",
        "SSR1 = u1.T@u1\n",
        "\n",
        "q = 6\n",
        "F = ((SSR1 - SSR0)/q)/(SSR0/(n-k))\n",
        "p_value = f.sf(F,q,n-k)\n",
        "print('p-value: ', p_value)"
      ]
    },
    {
      "cell_type": "markdown",
      "metadata": {
        "id": "tXFK7rh6ssEA"
      },
      "source": [
        "#### Conclusion: We fail to reject the null hypothesis (homokesdacity hypothesis) of our hypothesis test because the p-value(0.14766133314492383) is not less than 0.05. \n",
        "\n",
        "#### One way of reducing heteroskedasticity is applying log."
      ]
    },
    {
      "cell_type": "markdown",
      "metadata": {
        "id": "oSh90bYessEA"
      },
      "source": [
        "## 15. Tester le changement de structure de la question 8 entre les femmes qui ont plus de 43 ans et les autres : test sur l'ensemble des coefficients. Refaire le test avec 3 groupes (mutuellement exclusifs) : les femmes de moins de 30 ans, entre 30 et 43 ans, plus de 43 ans. Donnez les p-valeurs"
      ]
    },
    {
      "cell_type": "markdown",
      "metadata": {
        "id": "Og1CUalqssEA"
      },
      "source": [
        "Non-significance test"
      ]
    },
    {
      "cell_type": "markdown",
      "metadata": {
        "id": "TTC7PYbQssEA"
      },
      "source": [
        "Fist part:"
      ]
    },
    {
      "cell_type": "code",
      "execution_count": null,
      "metadata": {
        "id": "xuVVG3UNssEB",
        "outputId": "c94dfbfb-c9ea-49e0-92e6-91862e13ef3f"
      },
      "outputs": [
        {
          "name": "stdout",
          "output_type": "stream",
          "text": [
            "age > 43: F:  5.925214111863349\n",
            "age > 43: p-value:  1.1539982150709293e-05\n"
          ]
        }
      ],
      "source": [
        "# femmes qui on plus de 43 ans\n",
        "\n",
        "df_age = df[df['age'] > 43]\n",
        "\n",
        "y = df_age['lwage']\n",
        "s = np.shape(y)\n",
        "const = np.ones(s)\n",
        "city = df_age['city']\n",
        "educ = df_age['educ']\n",
        "exper = df_age['exper']\n",
        "nwifeinc = df_age['nwifeinc']\n",
        "kidslt6 = df_age['kidslt6']\n",
        "kidsge6 = df_age['kidsge6']\n",
        "X = np.column_stack((const, city, educ, exper, nwifeinc, kidslt6, kidsge6))\n",
        "\n",
        "model=sm.OLS(y,X)\n",
        "results = model.fit()\n",
        "print('age > 43: F: ', results.fvalue)\n",
        "print('age > 43: p-value: ', results.f_pvalue)"
      ]
    },
    {
      "cell_type": "code",
      "execution_count": null,
      "metadata": {
        "id": "GQxvunqJssEB",
        "outputId": "48579b96-a74f-4032-f3ab-1ca02b967821"
      },
      "outputs": [
        {
          "name": "stdout",
          "output_type": "stream",
          "text": [
            "age <= 43: F:  7.888373058223937\n",
            "age <= 43: p-value:  9.367865571690298e-08\n"
          ]
        }
      ],
      "source": [
        "# femmes avec age <= 43\n",
        "\n",
        "df_age = df[df['age'] <= 43]\n",
        "\n",
        "y = df_age['lwage']\n",
        "s = np.shape(y)\n",
        "const = np.ones(s)\n",
        "city = df_age['city']\n",
        "educ = df_age['educ']\n",
        "exper = df_age['exper']\n",
        "nwifeinc = df_age['nwifeinc']\n",
        "kidslt6 = df_age['kidslt6']\n",
        "kidsge6 = df_age['kidsge6']\n",
        "X = np.column_stack((const, city, educ, exper, nwifeinc, kidslt6, kidsge6))\n",
        "\n",
        "model=sm.OLS(y,X)\n",
        "results = model.fit()\n",
        "print('age <= 43: F: ', results.fvalue)\n",
        "print('age <= 43: p-value: ', results.f_pvalue)"
      ]
    },
    {
      "cell_type": "markdown",
      "metadata": {
        "id": "otwt6fb-ssEB"
      },
      "source": [
        "#### In both cases we can observe that p-value < 0.05 and therefore we can reject the hypothesis that every coeficient is null. Thus, the regression is meaningful."
      ]
    },
    {
      "cell_type": "markdown",
      "metadata": {
        "id": "A7u2D9TvssEB"
      },
      "source": [
        "Second part:\n",
        "\n",
        "Since there is no women with age less than 30 years, we interpreted the question as\n",
        "- women with age <= 30\n",
        "- women with 30  < age <= 43\n",
        "- women with age > 43"
      ]
    },
    {
      "cell_type": "code",
      "execution_count": null,
      "metadata": {
        "id": "lQNMn51sssEB",
        "outputId": "16d18f87-9d7e-49b5-d1ab-82fcf15af13b"
      },
      "outputs": [
        {
          "name": "stdout",
          "output_type": "stream",
          "text": [
            "age <= 30: F:  2.760899837232829\n",
            "age <= 30: p-value:  0.06343308213163089\n"
          ]
        }
      ],
      "source": [
        "# womans with age <= 30\n",
        "df_age = df[df['age'] <= 30]\n",
        "\n",
        "y = df_age['lwage']\n",
        "s = np.shape(y)\n",
        "const = np.ones(s)\n",
        "city = df_age['city']\n",
        "educ = df_age['educ']\n",
        "exper = df_age['exper']\n",
        "nwifeinc = df_age['nwifeinc']\n",
        "kidslt6 = df_age['kidslt6']\n",
        "kidsge6 = df_age['kidsge6']\n",
        "X = np.column_stack((const, city, educ, exper, nwifeinc, kidslt6, kidsge6))\n",
        "\n",
        "model=sm.OLS(y,X)\n",
        "results = model.fit()\n",
        "print('age <= 30: F: ', results.fvalue)\n",
        "print('age <= 30: p-value: ', results.f_pvalue)"
      ]
    },
    {
      "cell_type": "code",
      "execution_count": null,
      "metadata": {
        "id": "zwrI1YXnssEB",
        "outputId": "f28715c1-9084-4f20-ff62-9baca07bc07a"
      },
      "outputs": [
        {
          "name": "stdout",
          "output_type": "stream",
          "text": [
            "30 < age <= 43: F:  6.321130025737236\n",
            "30 < age <= 43: p-value:  3.837408744014238e-06\n"
          ]
        }
      ],
      "source": [
        "# womans with 30 < age <= 43\n",
        "df_age = df[(df['age'] > 30) & (df['age'] <= 43)]\n",
        "\n",
        "y = df_age['lwage']\n",
        "s = np.shape(y)\n",
        "const = np.ones(s)\n",
        "city = df_age['city']\n",
        "educ = df_age['educ']\n",
        "exper = df_age['exper']\n",
        "nwifeinc = df_age['nwifeinc']\n",
        "kidslt6 = df_age['kidslt6']\n",
        "kidsge6 = df_age['kidsge6']\n",
        "X = np.column_stack((const, city, educ, exper, nwifeinc, kidslt6, kidsge6))\n",
        "\n",
        "model=sm.OLS(y,X)\n",
        "results = model.fit()\n",
        "print('30 < age <= 43: F: ', results.fvalue)\n",
        "print('30 < age <= 43: p-value: ', results.f_pvalue)"
      ]
    },
    {
      "cell_type": "code",
      "execution_count": null,
      "metadata": {
        "id": "xuKi5VNZssEC",
        "outputId": "5a7d707a-7b6b-4b0a-edc7-97e5ef93f256"
      },
      "outputs": [
        {
          "name": "stdout",
          "output_type": "stream",
          "text": [
            "age > 43: F:  5.925214111863349\n",
            "age > 43: p-value:  1.1539982150709293e-05\n"
          ]
        }
      ],
      "source": [
        "# womans with age > 43\n",
        "df_age = df[df['age'] > 43]\n",
        "\n",
        "y = df_age['lwage']\n",
        "s = np.shape(y)\n",
        "const = np.ones(s)\n",
        "city = df_age['city']\n",
        "educ = df_age['educ']\n",
        "exper = df_age['exper']\n",
        "nwifeinc = df_age['nwifeinc']\n",
        "kidslt6 = df_age['kidslt6']\n",
        "kidsge6 = df_age['kidsge6']\n",
        "X = np.column_stack((const, city, educ, exper, nwifeinc, kidslt6, kidsge6))\n",
        "\n",
        "model=sm.OLS(y,X)\n",
        "results = model.fit()\n",
        "print('age > 43: F: ', results.fvalue)\n",
        "print('age > 43: p-value: ', results.f_pvalue)"
      ]
    },
    {
      "cell_type": "markdown",
      "metadata": {
        "id": "zgNjtgctssEC"
      },
      "source": [
        "#### By looking at the p-values the only one in which we fail to reject the the null hypothesis is \"women with age <= 30\". Therefore, this regression does not make sense but the others do."
      ]
    },
    {
      "cell_type": "markdown",
      "metadata": {
        "id": "wlCKbqKxssEC"
      },
      "source": [
        "### 16. Construire les variables binaires correspondant à l’âge des femmes de la question 15. Refaire la question 8 en ajoutant ces variables et en utilisant comme référence les femmes qui ont moins de 30 ans. Interprétez les paramètres associés aux variables binaires. Faire le test de non significativité de l’ensemble des variables binaires. Donnez les p-valeurs."
      ]
    },
    {
      "cell_type": "markdown",
      "metadata": {
        "id": "8r2jdzKrssEC"
      },
      "source": [
        "Applying the non-significance test for each case:"
      ]
    },
    {
      "cell_type": "code",
      "execution_count": null,
      "metadata": {
        "id": "mtoGHqiOssEC",
        "outputId": "db3a8777-2ba5-49f7-87bf-146431c0c664"
      },
      "outputs": [
        {
          "name": "stdout",
          "output_type": "stream",
          "text": [
            "age > 43: F:  11.656993203392469\n",
            "age > 43: p-value:  1.4301637214559697e-13\n"
          ]
        },
        {
          "data": {
            "text/html": [
              "<table class=\"simpletable\">\n",
              "<caption>OLS Regression Results</caption>\n",
              "<tr>\n",
              "  <th>Dep. Variable:</th>          <td>lwage</td>      <th>  R-squared:         </th> <td>   0.163</td>\n",
              "</tr>\n",
              "<tr>\n",
              "  <th>Model:</th>                   <td>OLS</td>       <th>  Adj. R-squared:    </th> <td>   0.149</td>\n",
              "</tr>\n",
              "<tr>\n",
              "  <th>Method:</th>             <td>Least Squares</td>  <th>  F-statistic:       </th> <td>   11.66</td>\n",
              "</tr>\n",
              "<tr>\n",
              "  <th>Date:</th>             <td>Sun, 22 Nov 2020</td> <th>  Prob (F-statistic):</th> <td>1.43e-13</td>\n",
              "</tr>\n",
              "<tr>\n",
              "  <th>Time:</th>                 <td>22:40:44</td>     <th>  Log-Likelihood:    </th> <td> -430.11</td>\n",
              "</tr>\n",
              "<tr>\n",
              "  <th>No. Observations:</th>      <td>   428</td>      <th>  AIC:               </th> <td>   876.2</td>\n",
              "</tr>\n",
              "<tr>\n",
              "  <th>Df Residuals:</th>          <td>   420</td>      <th>  BIC:               </th> <td>   908.7</td>\n",
              "</tr>\n",
              "<tr>\n",
              "  <th>Df Model:</th>              <td>     7</td>      <th>                     </th>     <td> </td>   \n",
              "</tr>\n",
              "<tr>\n",
              "  <th>Covariance Type:</th>      <td>nonrobust</td>    <th>                     </th>     <td> </td>   \n",
              "</tr>\n",
              "</table>\n",
              "<table class=\"simpletable\">\n",
              "<tr>\n",
              "    <td></td>       <th>coef</th>     <th>std err</th>      <th>t</th>      <th>P>|t|</th>  <th>[0.025</th>    <th>0.975]</th>  \n",
              "</tr>\n",
              "<tr>\n",
              "  <th>const</th> <td>   -0.3277</td> <td>    0.210</td> <td>   -1.562</td> <td> 0.119</td> <td>   -0.740</td> <td>    0.085</td>\n",
              "</tr>\n",
              "<tr>\n",
              "  <th>x1</th>    <td>    0.0461</td> <td>    0.070</td> <td>    0.657</td> <td> 0.511</td> <td>   -0.092</td> <td>    0.184</td>\n",
              "</tr>\n",
              "<tr>\n",
              "  <th>x2</th>    <td>    0.0993</td> <td>    0.015</td> <td>    6.559</td> <td> 0.000</td> <td>    0.070</td> <td>    0.129</td>\n",
              "</tr>\n",
              "<tr>\n",
              "  <th>x3</th>    <td>    0.0181</td> <td>    0.005</td> <td>    3.866</td> <td> 0.000</td> <td>    0.009</td> <td>    0.027</td>\n",
              "</tr>\n",
              "<tr>\n",
              "  <th>x4</th>    <td>    0.0060</td> <td>    0.003</td> <td>    1.775</td> <td> 0.077</td> <td>   -0.001</td> <td>    0.013</td>\n",
              "</tr>\n",
              "<tr>\n",
              "  <th>x5</th>    <td>   -0.0775</td> <td>    0.087</td> <td>   -0.893</td> <td> 0.372</td> <td>   -0.248</td> <td>    0.093</td>\n",
              "</tr>\n",
              "<tr>\n",
              "  <th>x6</th>    <td>   -0.0306</td> <td>    0.029</td> <td>   -1.069</td> <td> 0.286</td> <td>   -0.087</td> <td>    0.026</td>\n",
              "</tr>\n",
              "<tr>\n",
              "  <th>x7</th>    <td>   -0.1512</td> <td>    0.080</td> <td>   -1.891</td> <td> 0.059</td> <td>   -0.308</td> <td>    0.006</td>\n",
              "</tr>\n",
              "</table>\n",
              "<table class=\"simpletable\">\n",
              "<tr>\n",
              "  <th>Omnibus:</th>       <td>76.595</td> <th>  Durbin-Watson:     </th> <td>   1.998</td>\n",
              "</tr>\n",
              "<tr>\n",
              "  <th>Prob(Omnibus):</th> <td> 0.000</td> <th>  Jarque-Bera (JB):  </th> <td> 280.732</td>\n",
              "</tr>\n",
              "<tr>\n",
              "  <th>Skew:</th>          <td>-0.758</td> <th>  Prob(JB):          </th> <td>1.10e-61</td>\n",
              "</tr>\n",
              "<tr>\n",
              "  <th>Kurtosis:</th>      <td> 6.667</td> <th>  Cond. No.          </th> <td>    181.</td>\n",
              "</tr>\n",
              "</table><br/><br/>Warnings:<br/>[1] Standard Errors assume that the covariance matrix of the errors is correctly specified."
            ],
            "text/plain": [
              "<class 'statsmodels.iolib.summary.Summary'>\n",
              "\"\"\"\n",
              "                            OLS Regression Results                            \n",
              "==============================================================================\n",
              "Dep. Variable:                  lwage   R-squared:                       0.163\n",
              "Model:                            OLS   Adj. R-squared:                  0.149\n",
              "Method:                 Least Squares   F-statistic:                     11.66\n",
              "Date:                Sun, 22 Nov 2020   Prob (F-statistic):           1.43e-13\n",
              "Time:                        22:40:44   Log-Likelihood:                -430.11\n",
              "No. Observations:                 428   AIC:                             876.2\n",
              "Df Residuals:                     420   BIC:                             908.7\n",
              "Df Model:                           7                                         \n",
              "Covariance Type:            nonrobust                                         \n",
              "==============================================================================\n",
              "                 coef    std err          t      P>|t|      [0.025      0.975]\n",
              "------------------------------------------------------------------------------\n",
              "const         -0.3277      0.210     -1.562      0.119      -0.740       0.085\n",
              "x1             0.0461      0.070      0.657      0.511      -0.092       0.184\n",
              "x2             0.0993      0.015      6.559      0.000       0.070       0.129\n",
              "x3             0.0181      0.005      3.866      0.000       0.009       0.027\n",
              "x4             0.0060      0.003      1.775      0.077      -0.001       0.013\n",
              "x5            -0.0775      0.087     -0.893      0.372      -0.248       0.093\n",
              "x6            -0.0306      0.029     -1.069      0.286      -0.087       0.026\n",
              "x7            -0.1512      0.080     -1.891      0.059      -0.308       0.006\n",
              "==============================================================================\n",
              "Omnibus:                       76.595   Durbin-Watson:                   1.998\n",
              "Prob(Omnibus):                  0.000   Jarque-Bera (JB):              280.732\n",
              "Skew:                          -0.758   Prob(JB):                     1.10e-61\n",
              "Kurtosis:                       6.667   Cond. No.                         181.\n",
              "==============================================================================\n",
              "\n",
              "Warnings:\n",
              "[1] Standard Errors assume that the covariance matrix of the errors is correctly specified.\n",
              "\"\"\""
            ]
          },
          "execution_count": 35,
          "metadata": {},
          "output_type": "execute_result"
        }
      ],
      "source": [
        "#### AGE > 43\n",
        "\n",
        "df_age = df.copy()\n",
        "df_age['age_condition'] = df_age.age.apply(lambda age: 1 if age>43 else 0)\n",
        "\n",
        "y = df_age['lwage']\n",
        "s = np.shape(y)\n",
        "const = np.ones(s)\n",
        "city = df_age['city']\n",
        "educ = df_age['educ']\n",
        "exper = df_age['exper']\n",
        "nwifeinc = df_age['nwifeinc']\n",
        "kidslt6 = df_age['kidslt6']\n",
        "kidsge6 = df_age['kidsge6']\n",
        "age = df_age['age_condition']\n",
        "X = np.column_stack((const, city, educ, exper, nwifeinc, kidslt6, kidsge6, age))\n",
        "\n",
        "model=sm.OLS(y,X)\n",
        "results = model.fit()\n",
        "print('age > 43: F: ', results.fvalue)\n",
        "print('age > 43: p-value: ', results.f_pvalue)\n",
        "\n",
        "results.summary()"
      ]
    },
    {
      "cell_type": "code",
      "execution_count": null,
      "metadata": {
        "id": "dm55clVqssED",
        "outputId": "958d8df0-2439-4b46-bdb8-4ba722f71fd7"
      },
      "outputs": [
        {
          "name": "stdout",
          "output_type": "stream",
          "text": [
            "age <= 43: F:  11.656993203392469\n",
            "age <= 43: p-value:  1.4301637214559697e-13\n"
          ]
        },
        {
          "data": {
            "text/html": [
              "<table class=\"simpletable\">\n",
              "<caption>OLS Regression Results</caption>\n",
              "<tr>\n",
              "  <th>Dep. Variable:</th>          <td>lwage</td>      <th>  R-squared:         </th> <td>   0.163</td>\n",
              "</tr>\n",
              "<tr>\n",
              "  <th>Model:</th>                   <td>OLS</td>       <th>  Adj. R-squared:    </th> <td>   0.149</td>\n",
              "</tr>\n",
              "<tr>\n",
              "  <th>Method:</th>             <td>Least Squares</td>  <th>  F-statistic:       </th> <td>   11.66</td>\n",
              "</tr>\n",
              "<tr>\n",
              "  <th>Date:</th>             <td>Sun, 22 Nov 2020</td> <th>  Prob (F-statistic):</th> <td>1.43e-13</td>\n",
              "</tr>\n",
              "<tr>\n",
              "  <th>Time:</th>                 <td>22:40:44</td>     <th>  Log-Likelihood:    </th> <td> -430.11</td>\n",
              "</tr>\n",
              "<tr>\n",
              "  <th>No. Observations:</th>      <td>   428</td>      <th>  AIC:               </th> <td>   876.2</td>\n",
              "</tr>\n",
              "<tr>\n",
              "  <th>Df Residuals:</th>          <td>   420</td>      <th>  BIC:               </th> <td>   908.7</td>\n",
              "</tr>\n",
              "<tr>\n",
              "  <th>Df Model:</th>              <td>     7</td>      <th>                     </th>     <td> </td>   \n",
              "</tr>\n",
              "<tr>\n",
              "  <th>Covariance Type:</th>      <td>nonrobust</td>    <th>                     </th>     <td> </td>   \n",
              "</tr>\n",
              "</table>\n",
              "<table class=\"simpletable\">\n",
              "<tr>\n",
              "    <td></td>       <th>coef</th>     <th>std err</th>      <th>t</th>      <th>P>|t|</th>  <th>[0.025</th>    <th>0.975]</th>  \n",
              "</tr>\n",
              "<tr>\n",
              "  <th>const</th> <td>   -0.4789</td> <td>    0.211</td> <td>   -2.273</td> <td> 0.024</td> <td>   -0.893</td> <td>   -0.065</td>\n",
              "</tr>\n",
              "<tr>\n",
              "  <th>x1</th>    <td>    0.0461</td> <td>    0.070</td> <td>    0.657</td> <td> 0.511</td> <td>   -0.092</td> <td>    0.184</td>\n",
              "</tr>\n",
              "<tr>\n",
              "  <th>x2</th>    <td>    0.0993</td> <td>    0.015</td> <td>    6.559</td> <td> 0.000</td> <td>    0.070</td> <td>    0.129</td>\n",
              "</tr>\n",
              "<tr>\n",
              "  <th>x3</th>    <td>    0.0181</td> <td>    0.005</td> <td>    3.866</td> <td> 0.000</td> <td>    0.009</td> <td>    0.027</td>\n",
              "</tr>\n",
              "<tr>\n",
              "  <th>x4</th>    <td>    0.0060</td> <td>    0.003</td> <td>    1.775</td> <td> 0.077</td> <td>   -0.001</td> <td>    0.013</td>\n",
              "</tr>\n",
              "<tr>\n",
              "  <th>x5</th>    <td>   -0.0775</td> <td>    0.087</td> <td>   -0.893</td> <td> 0.372</td> <td>   -0.248</td> <td>    0.093</td>\n",
              "</tr>\n",
              "<tr>\n",
              "  <th>x6</th>    <td>   -0.0306</td> <td>    0.029</td> <td>   -1.069</td> <td> 0.286</td> <td>   -0.087</td> <td>    0.026</td>\n",
              "</tr>\n",
              "<tr>\n",
              "  <th>x7</th>    <td>    0.1512</td> <td>    0.080</td> <td>    1.891</td> <td> 0.059</td> <td>   -0.006</td> <td>    0.308</td>\n",
              "</tr>\n",
              "</table>\n",
              "<table class=\"simpletable\">\n",
              "<tr>\n",
              "  <th>Omnibus:</th>       <td>76.595</td> <th>  Durbin-Watson:     </th> <td>   1.998</td>\n",
              "</tr>\n",
              "<tr>\n",
              "  <th>Prob(Omnibus):</th> <td> 0.000</td> <th>  Jarque-Bera (JB):  </th> <td> 280.732</td>\n",
              "</tr>\n",
              "<tr>\n",
              "  <th>Skew:</th>          <td>-0.758</td> <th>  Prob(JB):          </th> <td>1.10e-61</td>\n",
              "</tr>\n",
              "<tr>\n",
              "  <th>Kurtosis:</th>      <td> 6.667</td> <th>  Cond. No.          </th> <td>    182.</td>\n",
              "</tr>\n",
              "</table><br/><br/>Warnings:<br/>[1] Standard Errors assume that the covariance matrix of the errors is correctly specified."
            ],
            "text/plain": [
              "<class 'statsmodels.iolib.summary.Summary'>\n",
              "\"\"\"\n",
              "                            OLS Regression Results                            \n",
              "==============================================================================\n",
              "Dep. Variable:                  lwage   R-squared:                       0.163\n",
              "Model:                            OLS   Adj. R-squared:                  0.149\n",
              "Method:                 Least Squares   F-statistic:                     11.66\n",
              "Date:                Sun, 22 Nov 2020   Prob (F-statistic):           1.43e-13\n",
              "Time:                        22:40:44   Log-Likelihood:                -430.11\n",
              "No. Observations:                 428   AIC:                             876.2\n",
              "Df Residuals:                     420   BIC:                             908.7\n",
              "Df Model:                           7                                         \n",
              "Covariance Type:            nonrobust                                         \n",
              "==============================================================================\n",
              "                 coef    std err          t      P>|t|      [0.025      0.975]\n",
              "------------------------------------------------------------------------------\n",
              "const         -0.4789      0.211     -2.273      0.024      -0.893      -0.065\n",
              "x1             0.0461      0.070      0.657      0.511      -0.092       0.184\n",
              "x2             0.0993      0.015      6.559      0.000       0.070       0.129\n",
              "x3             0.0181      0.005      3.866      0.000       0.009       0.027\n",
              "x4             0.0060      0.003      1.775      0.077      -0.001       0.013\n",
              "x5            -0.0775      0.087     -0.893      0.372      -0.248       0.093\n",
              "x6            -0.0306      0.029     -1.069      0.286      -0.087       0.026\n",
              "x7             0.1512      0.080      1.891      0.059      -0.006       0.308\n",
              "==============================================================================\n",
              "Omnibus:                       76.595   Durbin-Watson:                   1.998\n",
              "Prob(Omnibus):                  0.000   Jarque-Bera (JB):              280.732\n",
              "Skew:                          -0.758   Prob(JB):                     1.10e-61\n",
              "Kurtosis:                       6.667   Cond. No.                         182.\n",
              "==============================================================================\n",
              "\n",
              "Warnings:\n",
              "[1] Standard Errors assume that the covariance matrix of the errors is correctly specified.\n",
              "\"\"\""
            ]
          },
          "execution_count": 36,
          "metadata": {},
          "output_type": "execute_result"
        }
      ],
      "source": [
        "#### AGE <= 43\n",
        "\n",
        "df_age = df.copy()\n",
        "df_age['age_condition'] = df_age.age.apply(lambda age: 1 if age<=43 else 0)\n",
        "\n",
        "y = df_age['lwage']\n",
        "s = np.shape(y)\n",
        "const = np.ones(s)\n",
        "city = df_age['city']\n",
        "educ = df_age['educ']\n",
        "exper = df_age['exper']\n",
        "nwifeinc = df_age['nwifeinc']\n",
        "kidslt6 = df_age['kidslt6']\n",
        "kidsge6 = df_age['kidsge6']\n",
        "age = df_age['age_condition']\n",
        "X = np.column_stack((const, city, educ, exper, nwifeinc, kidslt6, kidsge6, age))\n",
        "\n",
        "model=sm.OLS(y,X)\n",
        "results = model.fit()\n",
        "print('age <= 43: F: ', results.fvalue)\n",
        "print('age <= 43: p-value: ', results.f_pvalue)\n",
        "\n",
        "results.summary()"
      ]
    },
    {
      "cell_type": "code",
      "execution_count": null,
      "metadata": {
        "id": "c95AFIIxssED",
        "outputId": "c2788c38-3240-49da-cfc5-f0033222de50"
      },
      "outputs": [
        {
          "name": "stdout",
          "output_type": "stream",
          "text": [
            "age <= 30: F:  11.302427601632251\n",
            "age <= 30: p-value:  3.806005688608665e-13\n"
          ]
        },
        {
          "data": {
            "text/html": [
              "<table class=\"simpletable\">\n",
              "<caption>OLS Regression Results</caption>\n",
              "<tr>\n",
              "  <th>Dep. Variable:</th>          <td>lwage</td>      <th>  R-squared:         </th> <td>   0.159</td>\n",
              "</tr>\n",
              "<tr>\n",
              "  <th>Model:</th>                   <td>OLS</td>       <th>  Adj. R-squared:    </th> <td>   0.144</td>\n",
              "</tr>\n",
              "<tr>\n",
              "  <th>Method:</th>             <td>Least Squares</td>  <th>  F-statistic:       </th> <td>   11.30</td>\n",
              "</tr>\n",
              "<tr>\n",
              "  <th>Date:</th>             <td>Sun, 22 Nov 2020</td> <th>  Prob (F-statistic):</th> <td>3.81e-13</td>\n",
              "</tr>\n",
              "<tr>\n",
              "  <th>Time:</th>                 <td>22:40:44</td>     <th>  Log-Likelihood:    </th> <td> -431.17</td>\n",
              "</tr>\n",
              "<tr>\n",
              "  <th>No. Observations:</th>      <td>   428</td>      <th>  AIC:               </th> <td>   878.3</td>\n",
              "</tr>\n",
              "<tr>\n",
              "  <th>Df Residuals:</th>          <td>   420</td>      <th>  BIC:               </th> <td>   910.8</td>\n",
              "</tr>\n",
              "<tr>\n",
              "  <th>Df Model:</th>              <td>     7</td>      <th>                     </th>     <td> </td>   \n",
              "</tr>\n",
              "<tr>\n",
              "  <th>Covariance Type:</th>      <td>nonrobust</td>    <th>                     </th>     <td> </td>   \n",
              "</tr>\n",
              "</table>\n",
              "<table class=\"simpletable\">\n",
              "<tr>\n",
              "    <td></td>       <th>coef</th>     <th>std err</th>      <th>t</th>      <th>P>|t|</th>  <th>[0.025</th>    <th>0.975]</th>  \n",
              "</tr>\n",
              "<tr>\n",
              "  <th>const</th> <td>   -0.4304</td> <td>    0.209</td> <td>   -2.064</td> <td> 0.040</td> <td>   -0.840</td> <td>   -0.020</td>\n",
              "</tr>\n",
              "<tr>\n",
              "  <th>x1</th>    <td>    0.0364</td> <td>    0.070</td> <td>    0.519</td> <td> 0.604</td> <td>   -0.101</td> <td>    0.174</td>\n",
              "</tr>\n",
              "<tr>\n",
              "  <th>x2</th>    <td>    0.1024</td> <td>    0.015</td> <td>    6.781</td> <td> 0.000</td> <td>    0.073</td> <td>    0.132</td>\n",
              "</tr>\n",
              "<tr>\n",
              "  <th>x3</th>    <td>    0.0163</td> <td>    0.005</td> <td>    3.598</td> <td> 0.000</td> <td>    0.007</td> <td>    0.025</td>\n",
              "</tr>\n",
              "<tr>\n",
              "  <th>x4</th>    <td>    0.0052</td> <td>    0.003</td> <td>    1.566</td> <td> 0.118</td> <td>   -0.001</td> <td>    0.012</td>\n",
              "</tr>\n",
              "<tr>\n",
              "  <th>x5</th>    <td>   -0.0591</td> <td>    0.086</td> <td>   -0.687</td> <td> 0.492</td> <td>   -0.228</td> <td>    0.110</td>\n",
              "</tr>\n",
              "<tr>\n",
              "  <th>x6</th>    <td>   -0.0079</td> <td>    0.027</td> <td>   -0.291</td> <td> 0.771</td> <td>   -0.061</td> <td>    0.045</td>\n",
              "</tr>\n",
              "<tr>\n",
              "  <th>x7</th>    <td>    0.1966</td> <td>    0.162</td> <td>    1.217</td> <td> 0.224</td> <td>   -0.121</td> <td>    0.514</td>\n",
              "</tr>\n",
              "</table>\n",
              "<table class=\"simpletable\">\n",
              "<tr>\n",
              "  <th>Omnibus:</th>       <td>77.669</td> <th>  Durbin-Watson:     </th> <td>   1.985</td>\n",
              "</tr>\n",
              "<tr>\n",
              "  <th>Prob(Omnibus):</th> <td> 0.000</td> <th>  Jarque-Bera (JB):  </th> <td> 283.451</td>\n",
              "</tr>\n",
              "<tr>\n",
              "  <th>Skew:</th>          <td>-0.771</td> <th>  Prob(JB):          </th> <td>2.82e-62</td>\n",
              "</tr>\n",
              "<tr>\n",
              "  <th>Kurtosis:</th>      <td> 6.677</td> <th>  Cond. No.          </th> <td>    181.</td>\n",
              "</tr>\n",
              "</table><br/><br/>Warnings:<br/>[1] Standard Errors assume that the covariance matrix of the errors is correctly specified."
            ],
            "text/plain": [
              "<class 'statsmodels.iolib.summary.Summary'>\n",
              "\"\"\"\n",
              "                            OLS Regression Results                            \n",
              "==============================================================================\n",
              "Dep. Variable:                  lwage   R-squared:                       0.159\n",
              "Model:                            OLS   Adj. R-squared:                  0.144\n",
              "Method:                 Least Squares   F-statistic:                     11.30\n",
              "Date:                Sun, 22 Nov 2020   Prob (F-statistic):           3.81e-13\n",
              "Time:                        22:40:44   Log-Likelihood:                -431.17\n",
              "No. Observations:                 428   AIC:                             878.3\n",
              "Df Residuals:                     420   BIC:                             910.8\n",
              "Df Model:                           7                                         \n",
              "Covariance Type:            nonrobust                                         \n",
              "==============================================================================\n",
              "                 coef    std err          t      P>|t|      [0.025      0.975]\n",
              "------------------------------------------------------------------------------\n",
              "const         -0.4304      0.209     -2.064      0.040      -0.840      -0.020\n",
              "x1             0.0364      0.070      0.519      0.604      -0.101       0.174\n",
              "x2             0.1024      0.015      6.781      0.000       0.073       0.132\n",
              "x3             0.0163      0.005      3.598      0.000       0.007       0.025\n",
              "x4             0.0052      0.003      1.566      0.118      -0.001       0.012\n",
              "x5            -0.0591      0.086     -0.687      0.492      -0.228       0.110\n",
              "x6            -0.0079      0.027     -0.291      0.771      -0.061       0.045\n",
              "x7             0.1966      0.162      1.217      0.224      -0.121       0.514\n",
              "==============================================================================\n",
              "Omnibus:                       77.669   Durbin-Watson:                   1.985\n",
              "Prob(Omnibus):                  0.000   Jarque-Bera (JB):              283.451\n",
              "Skew:                          -0.771   Prob(JB):                     2.82e-62\n",
              "Kurtosis:                       6.677   Cond. No.                         181.\n",
              "==============================================================================\n",
              "\n",
              "Warnings:\n",
              "[1] Standard Errors assume that the covariance matrix of the errors is correctly specified.\n",
              "\"\"\""
            ]
          },
          "execution_count": 37,
          "metadata": {},
          "output_type": "execute_result"
        }
      ],
      "source": [
        "#### AGE <=30\n",
        "\n",
        "df_age = df.copy()\n",
        "df_age['age_condition'] = df_age.age.apply(lambda age: 1 if age<=30 else 0)\n",
        "\n",
        "y = df_age['lwage']\n",
        "s = np.shape(y)\n",
        "const = np.ones(s)\n",
        "city = df_age['city']\n",
        "educ = df_age['educ']\n",
        "exper = df_age['exper']\n",
        "nwifeinc = df_age['nwifeinc']\n",
        "kidslt6 = df_age['kidslt6']\n",
        "kidsge6 = df_age['kidsge6']\n",
        "age = df_age['age_condition']\n",
        "X = np.column_stack((const, city, educ, exper, nwifeinc, kidslt6, kidsge6, age))\n",
        "\n",
        "model=sm.OLS(y,X)\n",
        "results = model.fit()\n",
        "print('age <= 30: F: ', results.fvalue)\n",
        "print('age <= 30: p-value: ', results.f_pvalue)\n",
        "\n",
        "results.summary()"
      ]
    },
    {
      "cell_type": "code",
      "execution_count": null,
      "metadata": {
        "id": "OJdNkwWSssEE",
        "outputId": "1eaaf30e-2fab-44be-9858-055bbe6dcfbe"
      },
      "outputs": [
        {
          "name": "stdout",
          "output_type": "stream",
          "text": [
            "30 < age <= 43: F:  11.308628133859576\n",
            "30 < age <= 43: p-value:  3.7413186424383416e-13\n"
          ]
        },
        {
          "data": {
            "text/html": [
              "<table class=\"simpletable\">\n",
              "<caption>OLS Regression Results</caption>\n",
              "<tr>\n",
              "  <th>Dep. Variable:</th>          <td>lwage</td>      <th>  R-squared:         </th> <td>   0.159</td>\n",
              "</tr>\n",
              "<tr>\n",
              "  <th>Model:</th>                   <td>OLS</td>       <th>  Adj. R-squared:    </th> <td>   0.145</td>\n",
              "</tr>\n",
              "<tr>\n",
              "  <th>Method:</th>             <td>Least Squares</td>  <th>  F-statistic:       </th> <td>   11.31</td>\n",
              "</tr>\n",
              "<tr>\n",
              "  <th>Date:</th>             <td>Sun, 22 Nov 2020</td> <th>  Prob (F-statistic):</th> <td>3.74e-13</td>\n",
              "</tr>\n",
              "<tr>\n",
              "  <th>Time:</th>                 <td>22:40:44</td>     <th>  Log-Likelihood:    </th> <td> -431.15</td>\n",
              "</tr>\n",
              "<tr>\n",
              "  <th>No. Observations:</th>      <td>   428</td>      <th>  AIC:               </th> <td>   878.3</td>\n",
              "</tr>\n",
              "<tr>\n",
              "  <th>Df Residuals:</th>          <td>   420</td>      <th>  BIC:               </th> <td>   910.8</td>\n",
              "</tr>\n",
              "<tr>\n",
              "  <th>Df Model:</th>              <td>     7</td>      <th>                     </th>     <td> </td>   \n",
              "</tr>\n",
              "<tr>\n",
              "  <th>Covariance Type:</th>      <td>nonrobust</td>    <th>                     </th>     <td> </td>   \n",
              "</tr>\n",
              "</table>\n",
              "<table class=\"simpletable\">\n",
              "<tr>\n",
              "    <td></td>       <th>coef</th>     <th>std err</th>      <th>t</th>      <th>P>|t|</th>  <th>[0.025</th>    <th>0.975]</th>  \n",
              "</tr>\n",
              "<tr>\n",
              "  <th>const</th> <td>   -0.4339</td> <td>    0.209</td> <td>   -2.078</td> <td> 0.038</td> <td>   -0.844</td> <td>   -0.023</td>\n",
              "</tr>\n",
              "<tr>\n",
              "  <th>x1</th>    <td>    0.0415</td> <td>    0.070</td> <td>    0.591</td> <td> 0.555</td> <td>   -0.097</td> <td>    0.180</td>\n",
              "</tr>\n",
              "<tr>\n",
              "  <th>x2</th>    <td>    0.1003</td> <td>    0.015</td> <td>    6.614</td> <td> 0.000</td> <td>    0.071</td> <td>    0.130</td>\n",
              "</tr>\n",
              "<tr>\n",
              "  <th>x3</th>    <td>    0.0167</td> <td>    0.005</td> <td>    3.640</td> <td> 0.000</td> <td>    0.008</td> <td>    0.026</td>\n",
              "</tr>\n",
              "<tr>\n",
              "  <th>x4</th>    <td>    0.0054</td> <td>    0.003</td> <td>    1.611</td> <td> 0.108</td> <td>   -0.001</td> <td>    0.012</td>\n",
              "</tr>\n",
              "<tr>\n",
              "  <th>x5</th>    <td>   -0.0588</td> <td>    0.086</td> <td>   -0.684</td> <td> 0.494</td> <td>   -0.228</td> <td>    0.110</td>\n",
              "</tr>\n",
              "<tr>\n",
              "  <th>x6</th>    <td>   -0.0254</td> <td>    0.029</td> <td>   -0.873</td> <td> 0.383</td> <td>   -0.083</td> <td>    0.032</td>\n",
              "</tr>\n",
              "<tr>\n",
              "  <th>x7</th>    <td>    0.0949</td> <td>    0.077</td> <td>    1.232</td> <td> 0.219</td> <td>   -0.056</td> <td>    0.246</td>\n",
              "</tr>\n",
              "</table>\n",
              "<table class=\"simpletable\">\n",
              "<tr>\n",
              "  <th>Omnibus:</th>       <td>78.466</td> <th>  Durbin-Watson:     </th> <td>   1.988</td>\n",
              "</tr>\n",
              "<tr>\n",
              "  <th>Prob(Omnibus):</th> <td> 0.000</td> <th>  Jarque-Bera (JB):  </th> <td> 283.942</td>\n",
              "</tr>\n",
              "<tr>\n",
              "  <th>Skew:</th>          <td>-0.782</td> <th>  Prob(JB):          </th> <td>2.20e-62</td>\n",
              "</tr>\n",
              "<tr>\n",
              "  <th>Kurtosis:</th>      <td> 6.671</td> <th>  Cond. No.          </th> <td>    179.</td>\n",
              "</tr>\n",
              "</table><br/><br/>Warnings:<br/>[1] Standard Errors assume that the covariance matrix of the errors is correctly specified."
            ],
            "text/plain": [
              "<class 'statsmodels.iolib.summary.Summary'>\n",
              "\"\"\"\n",
              "                            OLS Regression Results                            \n",
              "==============================================================================\n",
              "Dep. Variable:                  lwage   R-squared:                       0.159\n",
              "Model:                            OLS   Adj. R-squared:                  0.145\n",
              "Method:                 Least Squares   F-statistic:                     11.31\n",
              "Date:                Sun, 22 Nov 2020   Prob (F-statistic):           3.74e-13\n",
              "Time:                        22:40:44   Log-Likelihood:                -431.15\n",
              "No. Observations:                 428   AIC:                             878.3\n",
              "Df Residuals:                     420   BIC:                             910.8\n",
              "Df Model:                           7                                         \n",
              "Covariance Type:            nonrobust                                         \n",
              "==============================================================================\n",
              "                 coef    std err          t      P>|t|      [0.025      0.975]\n",
              "------------------------------------------------------------------------------\n",
              "const         -0.4339      0.209     -2.078      0.038      -0.844      -0.023\n",
              "x1             0.0415      0.070      0.591      0.555      -0.097       0.180\n",
              "x2             0.1003      0.015      6.614      0.000       0.071       0.130\n",
              "x3             0.0167      0.005      3.640      0.000       0.008       0.026\n",
              "x4             0.0054      0.003      1.611      0.108      -0.001       0.012\n",
              "x5            -0.0588      0.086     -0.684      0.494      -0.228       0.110\n",
              "x6            -0.0254      0.029     -0.873      0.383      -0.083       0.032\n",
              "x7             0.0949      0.077      1.232      0.219      -0.056       0.246\n",
              "==============================================================================\n",
              "Omnibus:                       78.466   Durbin-Watson:                   1.988\n",
              "Prob(Omnibus):                  0.000   Jarque-Bera (JB):              283.942\n",
              "Skew:                          -0.782   Prob(JB):                     2.20e-62\n",
              "Kurtosis:                       6.671   Cond. No.                         179.\n",
              "==============================================================================\n",
              "\n",
              "Warnings:\n",
              "[1] Standard Errors assume that the covariance matrix of the errors is correctly specified.\n",
              "\"\"\""
            ]
          },
          "execution_count": 38,
          "metadata": {},
          "output_type": "execute_result"
        }
      ],
      "source": [
        "#### AGE > 30 and AGE <= 43\n",
        "\n",
        "df_age = df.copy()\n",
        "df_age['age_condition'] = df_age.age.apply(lambda age: 1 if (age>30)&(age<=43) else 0)\n",
        "\n",
        "y = df_age['lwage']\n",
        "s = np.shape(y)\n",
        "const = np.ones(s)\n",
        "city = df_age['city']\n",
        "educ = df_age['educ']\n",
        "exper = df_age['exper']\n",
        "nwifeinc = df_age['nwifeinc']\n",
        "kidslt6 = df_age['kidslt6']\n",
        "kidsge6 = df_age['kidsge6']\n",
        "age = df_age['age_condition']\n",
        "X = np.column_stack((const, city, educ, exper, nwifeinc, kidslt6, kidsge6, age))\n",
        "\n",
        "model=sm.OLS(y,X)\n",
        "results = model.fit()\n",
        "print('30 < age <= 43: F: ', results.fvalue)\n",
        "print('30 < age <= 43: p-value: ', results.f_pvalue)\n",
        "\n",
        "results.summary()"
      ]
    },
    {
      "cell_type": "code",
      "execution_count": null,
      "metadata": {
        "id": "n8FjhguWssEE",
        "outputId": "df9402f0-19a9-43f1-ef8c-e746cad3747e"
      },
      "outputs": [
        {
          "name": "stdout",
          "output_type": "stream",
          "text": [
            "age > 43: F:  11.656993203392469\n",
            "age > 43: p-value:  1.4301637214559697e-13\n"
          ]
        },
        {
          "data": {
            "text/html": [
              "<table class=\"simpletable\">\n",
              "<caption>OLS Regression Results</caption>\n",
              "<tr>\n",
              "  <th>Dep. Variable:</th>          <td>lwage</td>      <th>  R-squared:         </th> <td>   0.163</td>\n",
              "</tr>\n",
              "<tr>\n",
              "  <th>Model:</th>                   <td>OLS</td>       <th>  Adj. R-squared:    </th> <td>   0.149</td>\n",
              "</tr>\n",
              "<tr>\n",
              "  <th>Method:</th>             <td>Least Squares</td>  <th>  F-statistic:       </th> <td>   11.66</td>\n",
              "</tr>\n",
              "<tr>\n",
              "  <th>Date:</th>             <td>Sun, 22 Nov 2020</td> <th>  Prob (F-statistic):</th> <td>1.43e-13</td>\n",
              "</tr>\n",
              "<tr>\n",
              "  <th>Time:</th>                 <td>22:40:44</td>     <th>  Log-Likelihood:    </th> <td> -430.11</td>\n",
              "</tr>\n",
              "<tr>\n",
              "  <th>No. Observations:</th>      <td>   428</td>      <th>  AIC:               </th> <td>   876.2</td>\n",
              "</tr>\n",
              "<tr>\n",
              "  <th>Df Residuals:</th>          <td>   420</td>      <th>  BIC:               </th> <td>   908.7</td>\n",
              "</tr>\n",
              "<tr>\n",
              "  <th>Df Model:</th>              <td>     7</td>      <th>                     </th>     <td> </td>   \n",
              "</tr>\n",
              "<tr>\n",
              "  <th>Covariance Type:</th>      <td>nonrobust</td>    <th>                     </th>     <td> </td>   \n",
              "</tr>\n",
              "</table>\n",
              "<table class=\"simpletable\">\n",
              "<tr>\n",
              "    <td></td>       <th>coef</th>     <th>std err</th>      <th>t</th>      <th>P>|t|</th>  <th>[0.025</th>    <th>0.975]</th>  \n",
              "</tr>\n",
              "<tr>\n",
              "  <th>const</th> <td>   -0.3277</td> <td>    0.210</td> <td>   -1.562</td> <td> 0.119</td> <td>   -0.740</td> <td>    0.085</td>\n",
              "</tr>\n",
              "<tr>\n",
              "  <th>x1</th>    <td>    0.0461</td> <td>    0.070</td> <td>    0.657</td> <td> 0.511</td> <td>   -0.092</td> <td>    0.184</td>\n",
              "</tr>\n",
              "<tr>\n",
              "  <th>x2</th>    <td>    0.0993</td> <td>    0.015</td> <td>    6.559</td> <td> 0.000</td> <td>    0.070</td> <td>    0.129</td>\n",
              "</tr>\n",
              "<tr>\n",
              "  <th>x3</th>    <td>    0.0181</td> <td>    0.005</td> <td>    3.866</td> <td> 0.000</td> <td>    0.009</td> <td>    0.027</td>\n",
              "</tr>\n",
              "<tr>\n",
              "  <th>x4</th>    <td>    0.0060</td> <td>    0.003</td> <td>    1.775</td> <td> 0.077</td> <td>   -0.001</td> <td>    0.013</td>\n",
              "</tr>\n",
              "<tr>\n",
              "  <th>x5</th>    <td>   -0.0775</td> <td>    0.087</td> <td>   -0.893</td> <td> 0.372</td> <td>   -0.248</td> <td>    0.093</td>\n",
              "</tr>\n",
              "<tr>\n",
              "  <th>x6</th>    <td>   -0.0306</td> <td>    0.029</td> <td>   -1.069</td> <td> 0.286</td> <td>   -0.087</td> <td>    0.026</td>\n",
              "</tr>\n",
              "<tr>\n",
              "  <th>x7</th>    <td>   -0.1512</td> <td>    0.080</td> <td>   -1.891</td> <td> 0.059</td> <td>   -0.308</td> <td>    0.006</td>\n",
              "</tr>\n",
              "</table>\n",
              "<table class=\"simpletable\">\n",
              "<tr>\n",
              "  <th>Omnibus:</th>       <td>76.595</td> <th>  Durbin-Watson:     </th> <td>   1.998</td>\n",
              "</tr>\n",
              "<tr>\n",
              "  <th>Prob(Omnibus):</th> <td> 0.000</td> <th>  Jarque-Bera (JB):  </th> <td> 280.732</td>\n",
              "</tr>\n",
              "<tr>\n",
              "  <th>Skew:</th>          <td>-0.758</td> <th>  Prob(JB):          </th> <td>1.10e-61</td>\n",
              "</tr>\n",
              "<tr>\n",
              "  <th>Kurtosis:</th>      <td> 6.667</td> <th>  Cond. No.          </th> <td>    181.</td>\n",
              "</tr>\n",
              "</table><br/><br/>Warnings:<br/>[1] Standard Errors assume that the covariance matrix of the errors is correctly specified."
            ],
            "text/plain": [
              "<class 'statsmodels.iolib.summary.Summary'>\n",
              "\"\"\"\n",
              "                            OLS Regression Results                            \n",
              "==============================================================================\n",
              "Dep. Variable:                  lwage   R-squared:                       0.163\n",
              "Model:                            OLS   Adj. R-squared:                  0.149\n",
              "Method:                 Least Squares   F-statistic:                     11.66\n",
              "Date:                Sun, 22 Nov 2020   Prob (F-statistic):           1.43e-13\n",
              "Time:                        22:40:44   Log-Likelihood:                -430.11\n",
              "No. Observations:                 428   AIC:                             876.2\n",
              "Df Residuals:                     420   BIC:                             908.7\n",
              "Df Model:                           7                                         \n",
              "Covariance Type:            nonrobust                                         \n",
              "==============================================================================\n",
              "                 coef    std err          t      P>|t|      [0.025      0.975]\n",
              "------------------------------------------------------------------------------\n",
              "const         -0.3277      0.210     -1.562      0.119      -0.740       0.085\n",
              "x1             0.0461      0.070      0.657      0.511      -0.092       0.184\n",
              "x2             0.0993      0.015      6.559      0.000       0.070       0.129\n",
              "x3             0.0181      0.005      3.866      0.000       0.009       0.027\n",
              "x4             0.0060      0.003      1.775      0.077      -0.001       0.013\n",
              "x5            -0.0775      0.087     -0.893      0.372      -0.248       0.093\n",
              "x6            -0.0306      0.029     -1.069      0.286      -0.087       0.026\n",
              "x7            -0.1512      0.080     -1.891      0.059      -0.308       0.006\n",
              "==============================================================================\n",
              "Omnibus:                       76.595   Durbin-Watson:                   1.998\n",
              "Prob(Omnibus):                  0.000   Jarque-Bera (JB):              280.732\n",
              "Skew:                          -0.758   Prob(JB):                     1.10e-61\n",
              "Kurtosis:                       6.667   Cond. No.                         181.\n",
              "==============================================================================\n",
              "\n",
              "Warnings:\n",
              "[1] Standard Errors assume that the covariance matrix of the errors is correctly specified.\n",
              "\"\"\""
            ]
          },
          "execution_count": 39,
          "metadata": {},
          "output_type": "execute_result"
        }
      ],
      "source": [
        "#### AGE > 43\n",
        "\n",
        "df_age = df.copy()\n",
        "df_age['age_condition'] = df_age.age.apply(lambda age: 1 if age>43 else 0)\n",
        "\n",
        "y = df_age['lwage']\n",
        "s = np.shape(y)\n",
        "const = np.ones(s)\n",
        "city = df_age['city']\n",
        "educ = df_age['educ']\n",
        "exper = df_age['exper']\n",
        "nwifeinc = df_age['nwifeinc']\n",
        "kidslt6 = df_age['kidslt6']\n",
        "kidsge6 = df_age['kidsge6']\n",
        "age = df_age['age_condition']\n",
        "X = np.column_stack((const, city, educ, exper, nwifeinc, kidslt6, kidsge6, age))\n",
        "\n",
        "model=sm.OLS(y,X)\n",
        "results = model.fit()\n",
        "print('age > 43: F: ', results.fvalue)\n",
        "print('age > 43: p-value: ', results.f_pvalue)\n",
        "\n",
        "results.summary()"
      ]
    },
    {
      "cell_type": "markdown",
      "metadata": {
        "id": "QWJn0xpwssEE"
      },
      "source": [
        "#### We can observe that p-value < 0.05 for every non-significance test applied, therefore we can reject the null hypothesis that every coefficient is zero."
      ]
    }
  ],
  "metadata": {
    "kernelspec": {
      "display_name": "Python 3",
      "language": "python",
      "name": "python3"
    },
    "language_info": {
      "codemirror_mode": {
        "name": "ipython",
        "version": 3
      },
      "file_extension": ".py",
      "mimetype": "text/x-python",
      "name": "python",
      "nbconvert_exporter": "python",
      "pygments_lexer": "ipython3",
      "version": "3.8.3"
    },
    "colab": {
      "provenance": []
    }
  },
  "nbformat": 4,
  "nbformat_minor": 0
}
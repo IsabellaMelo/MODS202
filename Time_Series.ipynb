{
  "cells": [
    {
      "cell_type": "markdown",
      "metadata": {
        "id": "xXO7-xOks4Vg"
      },
      "source": [
        "# PROJECT PART 2 - TIME SERIES\n",
        "\n",
        "Professor: Patrick Waelbroeck\n",
        "\n",
        "Students:\n",
        "\n",
        "- Gabriel de Souza Oliva\n",
        "- Isabella de Melo Sousa\n",
        "\n",
        "Date: 22/11/2020\n",
        "\n",
        "This contains both the code and the text answers to the questions of the project."
      ]
    },
    {
      "cell_type": "code",
      "execution_count": null,
      "metadata": {
        "id": "5qwo-9y9s4Vi"
      },
      "outputs": [],
      "source": [
        "import pandas as pd\n",
        "import numpy as np\n",
        "import matplotlib.pyplot as plt\n",
        "import statsmodels.api as sm"
      ]
    },
    {
      "cell_type": "markdown",
      "metadata": {
        "id": "BtTLcFpOs4Vk"
      },
      "source": [
        "### 1. Importer les données du fichier quarterly.xls (corriger le problème éventuel d’observations manquantes)"
      ]
    },
    {
      "cell_type": "code",
      "execution_count": null,
      "metadata": {
        "scrolled": false,
        "id": "0jSLdK0Gs4Vm",
        "outputId": "89105be5-2949-45c5-c638-88d7c8d97c64"
      },
      "outputs": [
        {
          "data": {
            "text/html": [
              "<div>\n",
              "<style scoped>\n",
              "    .dataframe tbody tr th:only-of-type {\n",
              "        vertical-align: middle;\n",
              "    }\n",
              "\n",
              "    .dataframe tbody tr th {\n",
              "        vertical-align: top;\n",
              "    }\n",
              "\n",
              "    .dataframe thead th {\n",
              "        text-align: right;\n",
              "    }\n",
              "</style>\n",
              "<table border=\"1\" class=\"dataframe\">\n",
              "  <thead>\n",
              "    <tr style=\"text-align: right;\">\n",
              "      <th></th>\n",
              "      <th>DATE</th>\n",
              "      <th>FFR</th>\n",
              "      <th>Tbill</th>\n",
              "      <th>Tb1yr</th>\n",
              "      <th>r5</th>\n",
              "      <th>r10</th>\n",
              "      <th>PPINSA</th>\n",
              "      <th>Finished</th>\n",
              "      <th>CPI</th>\n",
              "      <th>CPICORE</th>\n",
              "      <th>M1NSA</th>\n",
              "      <th>M2SA</th>\n",
              "      <th>M2NSA</th>\n",
              "      <th>Unemp</th>\n",
              "      <th>IndProd</th>\n",
              "      <th>RGDP</th>\n",
              "      <th>Potent</th>\n",
              "      <th>Deflator</th>\n",
              "      <th>Curr</th>\n",
              "    </tr>\n",
              "  </thead>\n",
              "  <tbody>\n",
              "    <tr>\n",
              "      <th>0</th>\n",
              "      <td>1960Q1</td>\n",
              "      <td>3.93</td>\n",
              "      <td>3.87</td>\n",
              "      <td>4.57</td>\n",
              "      <td>4.64</td>\n",
              "      <td>4.49</td>\n",
              "      <td>31.67</td>\n",
              "      <td>33.20</td>\n",
              "      <td>29.40</td>\n",
              "      <td>18.92</td>\n",
              "      <td>140.53</td>\n",
              "      <td>896.1</td>\n",
              "      <td>299.40</td>\n",
              "      <td>5.13</td>\n",
              "      <td>23.93</td>\n",
              "      <td>2845.3</td>\n",
              "      <td>2824.2</td>\n",
              "      <td>18.521</td>\n",
              "      <td>31.830</td>\n",
              "    </tr>\n",
              "    <tr>\n",
              "      <th>1</th>\n",
              "      <td>1960Q2</td>\n",
              "      <td>3.70</td>\n",
              "      <td>2.99</td>\n",
              "      <td>3.87</td>\n",
              "      <td>4.30</td>\n",
              "      <td>4.26</td>\n",
              "      <td>31.73</td>\n",
              "      <td>33.40</td>\n",
              "      <td>29.57</td>\n",
              "      <td>19.00</td>\n",
              "      <td>138.40</td>\n",
              "      <td>903.3</td>\n",
              "      <td>300.03</td>\n",
              "      <td>5.23</td>\n",
              "      <td>23.41</td>\n",
              "      <td>2832.0</td>\n",
              "      <td>2851.2</td>\n",
              "      <td>18.579</td>\n",
              "      <td>31.862</td>\n",
              "    </tr>\n",
              "    <tr>\n",
              "      <th>2</th>\n",
              "      <td>1960Q3</td>\n",
              "      <td>2.94</td>\n",
              "      <td>2.36</td>\n",
              "      <td>3.07</td>\n",
              "      <td>3.67</td>\n",
              "      <td>3.83</td>\n",
              "      <td>31.63</td>\n",
              "      <td>33.43</td>\n",
              "      <td>29.59</td>\n",
              "      <td>19.07</td>\n",
              "      <td>139.60</td>\n",
              "      <td>919.4</td>\n",
              "      <td>305.50</td>\n",
              "      <td>5.53</td>\n",
              "      <td>23.02</td>\n",
              "      <td>2836.6</td>\n",
              "      <td>2878.7</td>\n",
              "      <td>18.648</td>\n",
              "      <td>32.217</td>\n",
              "    </tr>\n",
              "    <tr>\n",
              "      <th>3</th>\n",
              "      <td>1960Q4</td>\n",
              "      <td>2.30</td>\n",
              "      <td>2.31</td>\n",
              "      <td>2.99</td>\n",
              "      <td>3.75</td>\n",
              "      <td>3.89</td>\n",
              "      <td>31.70</td>\n",
              "      <td>33.67</td>\n",
              "      <td>29.78</td>\n",
              "      <td>19.14</td>\n",
              "      <td>142.67</td>\n",
              "      <td>932.8</td>\n",
              "      <td>312.30</td>\n",
              "      <td>6.27</td>\n",
              "      <td>22.47</td>\n",
              "      <td>2800.2</td>\n",
              "      <td>2906.7</td>\n",
              "      <td>18.700</td>\n",
              "      <td>32.624</td>\n",
              "    </tr>\n",
              "    <tr>\n",
              "      <th>4</th>\n",
              "      <td>1961Q1</td>\n",
              "      <td>2.00</td>\n",
              "      <td>2.35</td>\n",
              "      <td>2.87</td>\n",
              "      <td>3.64</td>\n",
              "      <td>3.79</td>\n",
              "      <td>31.80</td>\n",
              "      <td>33.63</td>\n",
              "      <td>29.84</td>\n",
              "      <td>19.17</td>\n",
              "      <td>142.23</td>\n",
              "      <td>948.9</td>\n",
              "      <td>317.10</td>\n",
              "      <td>6.80</td>\n",
              "      <td>22.13</td>\n",
              "      <td>2816.9</td>\n",
              "      <td>2934.8</td>\n",
              "      <td>18.743</td>\n",
              "      <td>32.073</td>\n",
              "    </tr>\n",
              "    <tr>\n",
              "      <th>...</th>\n",
              "      <td>...</td>\n",
              "      <td>...</td>\n",
              "      <td>...</td>\n",
              "      <td>...</td>\n",
              "      <td>...</td>\n",
              "      <td>...</td>\n",
              "      <td>...</td>\n",
              "      <td>...</td>\n",
              "      <td>...</td>\n",
              "      <td>...</td>\n",
              "      <td>...</td>\n",
              "      <td>...</td>\n",
              "      <td>...</td>\n",
              "      <td>...</td>\n",
              "      <td>...</td>\n",
              "      <td>...</td>\n",
              "      <td>...</td>\n",
              "      <td>...</td>\n",
              "      <td>...</td>\n",
              "    </tr>\n",
              "    <tr>\n",
              "      <th>207</th>\n",
              "      <td>2011Q4</td>\n",
              "      <td>0.07</td>\n",
              "      <td>0.01</td>\n",
              "      <td>0.11</td>\n",
              "      <td>0.95</td>\n",
              "      <td>2.05</td>\n",
              "      <td>200.77</td>\n",
              "      <td>192.97</td>\n",
              "      <td>226.97</td>\n",
              "      <td>112.50</td>\n",
              "      <td>2165.77</td>\n",
              "      <td>28787.3</td>\n",
              "      <td>9599.47</td>\n",
              "      <td>8.67</td>\n",
              "      <td>95.33</td>\n",
              "      <td>13441.0</td>\n",
              "      <td>14255.9</td>\n",
              "      <td>113.987</td>\n",
              "      <td>1055.496</td>\n",
              "    </tr>\n",
              "    <tr>\n",
              "      <th>208</th>\n",
              "      <td>2012Q1</td>\n",
              "      <td>0.10</td>\n",
              "      <td>0.07</td>\n",
              "      <td>0.16</td>\n",
              "      <td>0.90</td>\n",
              "      <td>2.04</td>\n",
              "      <td>202.17</td>\n",
              "      <td>193.73</td>\n",
              "      <td>228.27</td>\n",
              "      <td>113.12</td>\n",
              "      <td>2213.97</td>\n",
              "      <td>29238.6</td>\n",
              "      <td>9777.03</td>\n",
              "      <td>8.27</td>\n",
              "      <td>96.70</td>\n",
              "      <td>13506.4</td>\n",
              "      <td>14317.4</td>\n",
              "      <td>114.599</td>\n",
              "      <td>1082.519</td>\n",
              "    </tr>\n",
              "    <tr>\n",
              "      <th>209</th>\n",
              "      <td>2012Q2</td>\n",
              "      <td>0.15</td>\n",
              "      <td>0.09</td>\n",
              "      <td>0.19</td>\n",
              "      <td>0.79</td>\n",
              "      <td>1.82</td>\n",
              "      <td>201.80</td>\n",
              "      <td>192.83</td>\n",
              "      <td>228.84</td>\n",
              "      <td>113.60</td>\n",
              "      <td>2258.30</td>\n",
              "      <td>29611.6</td>\n",
              "      <td>9888.97</td>\n",
              "      <td>8.17</td>\n",
              "      <td>97.27</td>\n",
              "      <td>13548.5</td>\n",
              "      <td>14379.3</td>\n",
              "      <td>115.035</td>\n",
              "      <td>1104.500</td>\n",
              "    </tr>\n",
              "    <tr>\n",
              "      <th>210</th>\n",
              "      <td>2012Q3</td>\n",
              "      <td>0.14</td>\n",
              "      <td>0.10</td>\n",
              "      <td>0.18</td>\n",
              "      <td>0.67</td>\n",
              "      <td>1.64</td>\n",
              "      <td>202.40</td>\n",
              "      <td>195.20</td>\n",
              "      <td>230.03</td>\n",
              "      <td>113.91</td>\n",
              "      <td>2326.47</td>\n",
              "      <td>30251.4</td>\n",
              "      <td>10029.87</td>\n",
              "      <td>8.03</td>\n",
              "      <td>97.39</td>\n",
              "      <td>13652.5</td>\n",
              "      <td>14441.9</td>\n",
              "      <td>115.810</td>\n",
              "      <td>1119.187</td>\n",
              "    </tr>\n",
              "    <tr>\n",
              "      <th>211</th>\n",
              "      <td>2012Q4</td>\n",
              "      <td>0.16</td>\n",
              "      <td>0.09</td>\n",
              "      <td>0.17</td>\n",
              "      <td>0.69</td>\n",
              "      <td>1.71</td>\n",
              "      <td>202.27</td>\n",
              "      <td>196.20</td>\n",
              "      <td>231.28</td>\n",
              "      <td>114.18</td>\n",
              "      <td>2436.73</td>\n",
              "      <td>30938.8</td>\n",
              "      <td>10319.60</td>\n",
              "      <td>7.83</td>\n",
              "      <td>98.01</td>\n",
              "      <td>13665.4</td>\n",
              "      <td>14505.4</td>\n",
              "      <td>116.089</td>\n",
              "      <td>1147.623</td>\n",
              "    </tr>\n",
              "  </tbody>\n",
              "</table>\n",
              "<p>212 rows × 19 columns</p>\n",
              "</div>"
            ],
            "text/plain": [
              "       DATE   FFR  Tbill  Tb1yr    r5   r10  PPINSA  Finished     CPI  \\\n",
              "0    1960Q1  3.93   3.87   4.57  4.64  4.49   31.67     33.20   29.40   \n",
              "1    1960Q2  3.70   2.99   3.87  4.30  4.26   31.73     33.40   29.57   \n",
              "2    1960Q3  2.94   2.36   3.07  3.67  3.83   31.63     33.43   29.59   \n",
              "3    1960Q4  2.30   2.31   2.99  3.75  3.89   31.70     33.67   29.78   \n",
              "4    1961Q1  2.00   2.35   2.87  3.64  3.79   31.80     33.63   29.84   \n",
              "..      ...   ...    ...    ...   ...   ...     ...       ...     ...   \n",
              "207  2011Q4  0.07   0.01   0.11  0.95  2.05  200.77    192.97  226.97   \n",
              "208  2012Q1  0.10   0.07   0.16  0.90  2.04  202.17    193.73  228.27   \n",
              "209  2012Q2  0.15   0.09   0.19  0.79  1.82  201.80    192.83  228.84   \n",
              "210  2012Q3  0.14   0.10   0.18  0.67  1.64  202.40    195.20  230.03   \n",
              "211  2012Q4  0.16   0.09   0.17  0.69  1.71  202.27    196.20  231.28   \n",
              "\n",
              "     CPICORE    M1NSA     M2SA     M2NSA  Unemp  IndProd     RGDP   Potent  \\\n",
              "0      18.92   140.53    896.1    299.40   5.13    23.93   2845.3   2824.2   \n",
              "1      19.00   138.40    903.3    300.03   5.23    23.41   2832.0   2851.2   \n",
              "2      19.07   139.60    919.4    305.50   5.53    23.02   2836.6   2878.7   \n",
              "3      19.14   142.67    932.8    312.30   6.27    22.47   2800.2   2906.7   \n",
              "4      19.17   142.23    948.9    317.10   6.80    22.13   2816.9   2934.8   \n",
              "..       ...      ...      ...       ...    ...      ...      ...      ...   \n",
              "207   112.50  2165.77  28787.3   9599.47   8.67    95.33  13441.0  14255.9   \n",
              "208   113.12  2213.97  29238.6   9777.03   8.27    96.70  13506.4  14317.4   \n",
              "209   113.60  2258.30  29611.6   9888.97   8.17    97.27  13548.5  14379.3   \n",
              "210   113.91  2326.47  30251.4  10029.87   8.03    97.39  13652.5  14441.9   \n",
              "211   114.18  2436.73  30938.8  10319.60   7.83    98.01  13665.4  14505.4   \n",
              "\n",
              "     Deflator      Curr  \n",
              "0      18.521    31.830  \n",
              "1      18.579    31.862  \n",
              "2      18.648    32.217  \n",
              "3      18.700    32.624  \n",
              "4      18.743    32.073  \n",
              "..        ...       ...  \n",
              "207   113.987  1055.496  \n",
              "208   114.599  1082.519  \n",
              "209   115.035  1104.500  \n",
              "210   115.810  1119.187  \n",
              "211   116.089  1147.623  \n",
              "\n",
              "[212 rows x 19 columns]"
            ]
          },
          "execution_count": 2,
          "metadata": {},
          "output_type": "execute_result"
        }
      ],
      "source": [
        "import os\n",
        "root = os.path.abspath(os.curdir)\n",
        "file = root + '/quarterly.xls'\n",
        "data = pd.read_excel (file) \n",
        "columns = ['DATE', 'FFR', 'Tbill', 'Tb1yr', 'r5', 'r10', 'PPINSA', 'Finished', 'CPI','CPICORE','M1NSA','M2SA','M2NSA','Unemp',\n",
        "          'IndProd','RGDP','Potent','Deflator','Curr']\n",
        "df = pd.DataFrame(data, columns=columns)\n",
        "\n",
        "# Supprimer toutes les lignes avec des valeurs manquantes\n",
        "df = df.dropna()\n",
        "df"
      ]
    },
    {
      "cell_type": "markdown",
      "metadata": {
        "id": "_zv1CEt4s4Vn"
      },
      "source": [
        "### 2. Calculer inf, le taux d’inflation à partir de la variable CPI. Faire un graphique dans le temps de inf. Commentez"
      ]
    },
    {
      "cell_type": "code",
      "execution_count": null,
      "metadata": {
        "id": "uoIWDnsFs4Vo",
        "outputId": "2e56ba7a-9000-455e-ed5a-7b8726c8085d"
      },
      "outputs": [
        {
          "name": "stdout",
          "output_type": "stream",
          "text": [
            "inf:\n",
            "0      0.000000\n",
            "1      0.578231\n",
            "2      0.067636\n",
            "3      0.642109\n",
            "4      0.201478\n",
            "         ...   \n",
            "207    0.349279\n",
            "208    0.572763\n",
            "209    0.249704\n",
            "210    0.520014\n",
            "211    0.543407\n",
            "Name: CPI, Length: 212, dtype: float64\n"
          ]
        },
        {
          "data": {
            "image/png": "[encoded data removed]",
            "text/plain": [
              "<Figure size 1440x720 with 1 Axes>"
            ]
          },
          "metadata": {
            "needs_background": "light"
          },
          "output_type": "display_data"
        }
      ],
      "source": [
        "# to calculate inflation we need to:\n",
        "# subtract the starting date CPI from the later date CPI and divide your answer by the starting date CPI.\n",
        "# multiply the results by 100 to get inflation rate as a percentage.\n",
        "\n",
        "import matplotlib.ticker as mticker\n",
        "inf = df.CPI.pct_change()*100\n",
        "\n",
        "inf = inf.fillna(0)\n",
        "\n",
        "print('inf:')\n",
        "print(inf)\n",
        "\n",
        "fig, ax = plt.subplots(figsize=(20,10))\n",
        "ax.plot_date(df.DATE, inf, marker='', linestyle='-')\n",
        "\n",
        "myLocator = mticker.MultipleLocator(25)\n",
        "ax.xaxis.set_major_locator(myLocator)\n",
        "\n",
        "plt.xticks(rotation=45)\n",
        "plt.xlabel('Date')\n",
        "plt.ylabel('Inflantion')\n",
        "plt.title('CPI Inflation Rate')\n",
        "plt.show()"
      ]
    },
    {
      "cell_type": "markdown",
      "metadata": {
        "id": "51Cyzxhcs4Vo"
      },
      "source": [
        "In the graphic above it is possible to see the variation of inflation through the years. Until 1980, the graphic depicts an increase in inflation and after that a decrease in the curve."
      ]
    },
    {
      "cell_type": "markdown",
      "metadata": {
        "id": "s8sPVlHas4Vp"
      },
      "source": [
        "### 3. Interpréter l'autocorrélogramme et l'autocorrélogrammes partiels de inf. Quelle est la différence entre ces deux graphiques ?"
      ]
    },
    {
      "cell_type": "code",
      "execution_count": null,
      "metadata": {
        "id": "Zbxq1zL7s4Vp",
        "outputId": "a3a4bf75-2caa-4b93-a058-6a6679911358"
      },
      "outputs": [
        {
          "data": {
            "image/png": "[encoded data removed]",
            "text/plain": [
              "<Figure size 432x288 with 1 Axes>"
            ]
          },
          "metadata": {
            "needs_background": "light"
          },
          "output_type": "display_data"
        },
        {
          "data": {
            "image/png": "[encoded data removed]",
            "text/plain": [
              "<Figure size 432x288 with 1 Axes>"
            ]
          },
          "metadata": {
            "needs_background": "light"
          },
          "output_type": "display_data"
        }
      ],
      "source": [
        "from statsmodels.graphics.tsaplots import plot_acf\n",
        "from statsmodels.graphics.tsaplots import plot_pacf\n",
        "\n",
        "x = plot_acf(inf, lags=40, fft=False, alpha = 0.05)\n",
        "x = plot_pacf(inf, lags=40, alpha = 0.05)"
      ]
    },
    {
      "cell_type": "markdown",
      "metadata": {
        "id": "FwHpjIPcs4Vq"
      },
      "source": [
        "Autocorrelation is the linear dependence of a variable with itself at two points in time. For stationary processes, autocorrelation between any two observations depends only on the time lag k between them: autocorrelation of lag k is the correlation between $y_t$ and $y_{t+k}$ where the time series is $\\{y_t\\}$.\n",
        "\n",
        "Partial autocorrelation is the autocorrelation between $y_t$ and $y_{t-k}$ after the removal of any linear dependence on $y_1, y_2, ..., y_{t-k+1}$."
      ]
    },
    {
      "cell_type": "markdown",
      "metadata": {
        "id": "OSvGPPsLs4Vr"
      },
      "source": [
        "### 4. Quelle est la différence entre la stationnarité et l'ergodicité ? Pourquoi a-t-on besoin de ces deux conditions. Expliquez le terme \"spurious regression\"."
      ]
    },
    {
      "cell_type": "markdown",
      "metadata": {
        "id": "Pwa5sCE0s4Vr"
      },
      "source": [
        "Stationarity refers to the distributions of the random variables, ergodicity, on the other hand, doesn't look at statistical properties of the random variables but at the sample paths, i.e. what you observe physically.\n",
        "\n",
        "Definitions based on slides \"Cours 5\" from the course:  \n",
        "\n",
        "- Stationarity stochastic process {X(t)} is said to be strictly stationary if its distribution is time-invariant, i.e., the joint distribution function of (X(t1), ..., X(tn)) is identical to that of (X(t1+l), ..., X(tn+l)) for all l and n.\n",
        "\n",
        "- Ergodicity = the process forgets the conditions initials: the auto-correlation of order k tends to 0 when k tends to infinity.\n",
        "\n",
        "Stationarity is an important property of signals because a lot of data can be considered stationary and ergodicity plays a central role in estimations of the statistical quantities, where it ensures that time series estimates serves as unbiased estimators of the considered statistical parameters. Ergodicity is necessary to apply law of large numbers and central limit theorem.\n",
        "\n",
        "Finally, a spurious regression is one in which the time-series variables are non-stationary and independent."
      ]
    },
    {
      "cell_type": "markdown",
      "metadata": {
        "id": "OlclpVU1s4Vr"
      },
      "source": [
        "### 5. Proposer une modélisation AR(p) de inf, en utilisant tous les outils vus au cours."
      ]
    },
    {
      "cell_type": "markdown",
      "metadata": {
        "id": "VJOEH3rWs4Vs"
      },
      "source": [
        "One useful tool to identify the order of an AR model is to look at the Partial Autocorrelation Function (PACF). We know that for an AR(1), the PACF should have a significant lag-1 value, and roughly zeros after that, for an AR(2), the sample PACF should have significant lag-1 and lag-2 values, and zeros after that and so on."
      ]
    },
    {
      "cell_type": "markdown",
      "metadata": {
        "id": "d-hrgBdUs4Vs"
      },
      "source": [
        "This way by looking at the Partial Autocorrelation graphic plotted on question 3, we can observe that the model is AR(3)."
      ]
    },
    {
      "cell_type": "markdown",
      "metadata": {
        "id": "6ZG5_PdVs4Vs"
      },
      "source": [
        "Now, we are going to calculate the coefficients. We know that:\n",
        "A p-order autoregressive process, AR(p), takes the form: $y_i = \\phi_0 + \\phi_1y_{i-1} + \\phi_2y_{i-2} + ...+ \\phi_py_{i-p} + \\epsilon_i$. Therefore AR(3) takes the form: $y_i = \\phi_0 + \\phi_1y_{i-1} + \\phi_2y_{i-2} +  \\phi_3y_{i-3} + \\epsilon_i$"
      ]
    },
    {
      "cell_type": "code",
      "execution_count": null,
      "metadata": {
        "id": "lTS8JzFHs4Vs",
        "outputId": "14fb9b11-ebcb-43dc-c8d2-4b9b7820e65f"
      },
      "outputs": [
        {
          "name": "stdout",
          "output_type": "stream",
          "text": [
            "const     0.142692\n",
            "L1.CPI    0.578205\n",
            "L2.CPI   -0.012483\n",
            "L3.CPI    0.292626\n",
            "dtype: float64\n",
            "                               AR Model Results                               \n",
            "==============================================================================\n",
            "Dep. Variable:                      C  -                  P                  I\n",
            "Model:                          AR(3)   Log Likelihood                -139.189\n",
            "Method:                          cmle   S.D. of innovations              0.471\n",
            "Date:                Sun, 22 Nov 2020   AIC                             -1.458\n",
            "Time:                        22:41:01   BIC                             -1.378\n",
            "Sample:                             0   HQIC                            -1.426\n",
            "                                                                              \n",
            "==============================================================================\n",
            "                 coef    std err          z      P>|z|      [0.025      0.975]\n",
            "------------------------------------------------------------------------------\n",
            "const          0.1427      0.057      2.505      0.012       0.031       0.254\n",
            "L1.CPI         0.5782      0.067      8.682      0.000       0.448       0.709\n",
            "L2.CPI        -0.0125      0.078     -0.161      0.872      -0.165       0.140\n",
            "L3.CPI         0.2926      0.066      4.406      0.000       0.162       0.423\n",
            "                                    Roots                                    \n",
            "=============================================================================\n",
            "                  Real          Imaginary           Modulus         Frequency\n",
            "-----------------------------------------------------------------------------\n",
            "AR.1            1.0935           -0.0000j            1.0935           -0.0000\n",
            "AR.2           -0.5254           -1.6879j            1.7678           -0.2980\n",
            "AR.3           -0.5254           +1.6879j            1.7678            0.2980\n",
            "-----------------------------------------------------------------------------\n"
          ]
        },
        {
          "name": "stderr",
          "output_type": "stream",
          "text": [
            "C:\\Users\\bebel\\anaconda3\\lib\\site-packages\\statsmodels\\tsa\\ar_model.py:691: FutureWarning: \n",
            "statsmodels.tsa.AR has been deprecated in favor of statsmodels.tsa.AutoReg and\n",
            "statsmodels.tsa.SARIMAX.\n",
            "\n",
            "AutoReg adds the ability to specify exogenous variables, include time trends,\n",
            "and add seasonal dummies. The AutoReg API differs from AR since the model is\n",
            "treated as immutable, and so the entire specification including the lag\n",
            "length must be specified when creating the model. This change is too\n",
            "substantial to incorporate into the existing AR api. The function\n",
            "ar_select_order performs lag length selection for AutoReg models.\n",
            "\n",
            "AutoReg only estimates parameters using conditional MLE (OLS). Use SARIMAX to\n",
            "estimate ARX and related models using full MLE via the Kalman Filter.\n",
            "\n",
            "To silence this warning and continue using AR until it is removed, use:\n",
            "\n",
            "import warnings\n",
            "warnings.filterwarnings('ignore', 'statsmodels.tsa.ar_model.AR', FutureWarning)\n",
            "\n",
            "  warnings.warn(AR_DEPRECATION_WARN, FutureWarning)\n"
          ]
        }
      ],
      "source": [
        "import statsmodels.tsa.api as smt\n",
        "mdl = smt.AR(inf).fit(maxlag=3)\n",
        "print(mdl.params)\n",
        "print(mdl.summary())"
      ]
    },
    {
      "cell_type": "markdown",
      "metadata": {
        "scrolled": true,
        "id": "p4gkOd-Vs4Vt"
      },
      "source": [
        "We can observe that the coeficients are $\\phi_0$ =  0.142692, $\\phi_1$ = 0.578205, $\\phi_2$ = -0.012483 and $\\phi_3$ = 0.292626.\n"
      ]
    },
    {
      "cell_type": "markdown",
      "metadata": {
        "id": "iigiCSoIs4Vt"
      },
      "source": [
        "### 6.Estimer le modèle de la courbe de Philips qui explique le taux de chômage (Unemp) en fonction du taux d’inflation courant et une constante.\n"
      ]
    },
    {
      "cell_type": "code",
      "execution_count": null,
      "metadata": {
        "id": "15dRoMiOs4Vt",
        "outputId": "6f1d5081-0714-45a0-ffea-f1f317671ed0"
      },
      "outputs": [
        {
          "name": "stdout",
          "output_type": "stream",
          "text": [
            "                            OLS Regression Results                            \n",
            "==============================================================================\n",
            "Dep. Variable:                  Unemp   R-squared:                       0.000\n",
            "Model:                            OLS   Adj. R-squared:                 -0.005\n",
            "Method:                 Least Squares   F-statistic:                   0.02604\n",
            "Date:                Sun, 22 Nov 2020   Prob (F-statistic):              0.872\n",
            "Time:                        22:41:01   Log-Likelihood:                -401.84\n",
            "No. Observations:                 212   AIC:                             807.7\n",
            "Df Residuals:                     210   BIC:                             814.4\n",
            "Df Model:                           1                                         \n",
            "Covariance Type:            nonrobust                                         \n",
            "==============================================================================\n",
            "                 coef    std err          t      P>|t|      [0.025      0.975]\n",
            "------------------------------------------------------------------------------\n",
            "const          6.0593      0.179     33.774      0.000       5.706       6.413\n",
            "x1             0.0232      0.144      0.161      0.872      -0.260       0.306\n",
            "==============================================================================\n",
            "Omnibus:                       14.253   Durbin-Watson:                   0.044\n",
            "Prob(Omnibus):                  0.001   Jarque-Bera (JB):               15.817\n",
            "Skew:                           0.669   Prob(JB):                     0.000368\n",
            "Kurtosis:                       2.954   Cond. No.                         2.97\n",
            "==============================================================================\n",
            "\n",
            "Warnings:\n",
            "[1] Standard Errors assume that the covariance matrix of the errors is correctly specified.\n"
          ]
        },
        {
          "data": {
            "text/plain": [
              "Text(0.5, 1.0, 'curve de Philips')"
            ]
          },
          "execution_count": 6,
          "metadata": {},
          "output_type": "execute_result"
        },
        {
          "data": {
            "image/png": "[encoded data removed]",
            "text/plain": [
              "<Figure size 432x288 with 1 Axes>"
            ]
          },
          "metadata": {
            "needs_background": "light"
          },
          "output_type": "display_data"
        }
      ],
      "source": [
        "n = len(inf)\n",
        "\n",
        "y = df['Unemp']\n",
        "const = np.ones(n)\n",
        "X = np.column_stack((const, inf))\n",
        "\n",
        "model=sm.OLS(y,X)\n",
        "results = model.fit()\n",
        "print(results.summary())\n",
        "\n",
        "plt.plot(inf, results.params[0] +  results.params[1]*inf)\n",
        "plt.xlabel('inflation rate')\n",
        "plt.ylabel('chomage rage')\n",
        "plt.title('curve de Philips')"
      ]
    },
    {
      "cell_type": "markdown",
      "metadata": {
        "id": "gGWiA0Nls4Vu"
      },
      "source": [
        "We can see that the coeficient for the constante is 6.0593 and the coeficient for the inf is 0.0232."
      ]
    },
    {
      "cell_type": "markdown",
      "metadata": {
        "id": "kggBZrTls4Vu"
      },
      "source": [
        "### 7. Tester l’autocorrélation des erreurs."
      ]
    },
    {
      "cell_type": "markdown",
      "metadata": {
        "id": "67O8OYgMs4Vu"
      },
      "source": [
        "Testing the autocorrelation of errors by testing the hypothesis:\n",
        "H0 : ρ = 0 in the equation u(t) = ρu(t − 1) + ν"
      ]
    },
    {
      "cell_type": "code",
      "execution_count": null,
      "metadata": {
        "id": "nCk-2QGps4Vu",
        "outputId": "f56f50fe-1d07-443d-88e9-ec55c013ba47"
      },
      "outputs": [
        {
          "name": "stdout",
          "output_type": "stream",
          "text": [
            "                                 OLS Regression Results                                \n",
            "=======================================================================================\n",
            "Dep. Variable:                      y   R-squared (uncentered):                   0.956\n",
            "Model:                            OLS   Adj. R-squared (uncentered):              0.956\n",
            "Method:                 Least Squares   F-statistic:                              4564.\n",
            "Date:                Sun, 22 Nov 2020   Prob (F-statistic):                   1.99e-144\n",
            "Time:                        22:41:02   Log-Likelihood:                         -70.709\n",
            "No. Observations:                 211   AIC:                                      143.4\n",
            "Df Residuals:                     210   BIC:                                      146.8\n",
            "Df Model:                           1                                                  \n",
            "Covariance Type:            nonrobust                                                  \n",
            "==============================================================================\n",
            "                 coef    std err          t      P>|t|      [0.025      0.975]\n",
            "------------------------------------------------------------------------------\n",
            "x1             0.9797      0.015     67.559      0.000       0.951       1.008\n",
            "==============================================================================\n",
            "Omnibus:                       79.442   Durbin-Watson:                   0.669\n",
            "Prob(Omnibus):                  0.000   Jarque-Bera (JB):              247.536\n",
            "Skew:                           1.586   Prob(JB):                     1.77e-54\n",
            "Kurtosis:                       7.253   Cond. No.                         1.00\n",
            "==============================================================================\n",
            "\n",
            "Warnings:\n",
            "[1] Standard Errors assume that the covariance matrix of the errors is correctly specified.\n"
          ]
        }
      ],
      "source": [
        "u=results.resid\n",
        "n=len(u)\n",
        "u_1=u[0:n-1]\n",
        "const=np.ones(n-1)\n",
        "X=np.column_stack((const, u_1))\n",
        "X=X[:,1]\n",
        "y=u[1:n]\n",
        "model=sm.OLS(y,X)\n",
        "results1 = model.fit()\n",
        "print(results1.summary())\n"
      ]
    },
    {
      "cell_type": "markdown",
      "metadata": {
        "id": "GhJX0f9Ss4Vv"
      },
      "source": [
        "We can observe that the p-value is 0.000, therefore we can reject the hypothesis H0 (that the autocorrelation of errors  is null) at 5%. "
      ]
    },
    {
      "cell_type": "markdown",
      "metadata": {
        "id": "c8BZGG0Xs4Vv"
      },
      "source": [
        "### 8. Corriger l’autocorrélation des erreurs par la méthode vue en cours."
      ]
    },
    {
      "cell_type": "markdown",
      "metadata": {
        "id": "EA0YcwQus4Vv"
      },
      "source": [
        "The correction occurs by using the transformation y(t) - ρy(t-1) and $X_k$(t) - ρ$X_k$(t-1)."
      ]
    },
    {
      "cell_type": "code",
      "execution_count": null,
      "metadata": {
        "id": "8Z-PxX-vs4Vw",
        "outputId": "1f7c09cc-1641-4166-8d3a-09eb2cd96b1e"
      },
      "outputs": [
        {
          "name": "stdout",
          "output_type": "stream",
          "text": [
            "                                 OLS Regression Results                                \n",
            "=======================================================================================\n",
            "Dep. Variable:                      y   R-squared (uncentered):                   0.406\n",
            "Model:                            OLS   Adj. R-squared (uncentered):              0.403\n",
            "Method:                 Least Squares   F-statistic:                              143.2\n",
            "Date:                Sun, 22 Nov 2020   Prob (F-statistic):                    1.65e-25\n",
            "Time:                        22:41:02   Log-Likelihood:                         -11.818\n",
            "No. Observations:                 211   AIC:                                      25.64\n",
            "Df Residuals:                     210   BIC:                                      28.99\n",
            "Df Model:                           1                                                  \n",
            "Covariance Type:            nonrobust                                                  \n",
            "==============================================================================\n",
            "                 coef    std err          t      P>|t|      [0.025      0.975]\n",
            "------------------------------------------------------------------------------\n",
            "x1             0.6369      0.053     11.969      0.000       0.532       0.742\n",
            "==============================================================================\n",
            "Omnibus:                       46.023   Durbin-Watson:                   1.984\n",
            "Prob(Omnibus):                  0.000   Jarque-Bera (JB):              128.573\n",
            "Skew:                           0.916   Prob(JB):                     1.20e-28\n",
            "Kurtosis:                       6.356   Cond. No.                         1.00\n",
            "==============================================================================\n",
            "\n",
            "Warnings:\n",
            "[1] Standard Errors assume that the covariance matrix of the errors is correctly specified.\n",
            "0.6369429294178045\n"
          ]
        }
      ],
      "source": [
        "n = len(inf)\n",
        "\n",
        "y = df['Unemp']\n",
        "y_1 = df['Unemp'].shift(1)\n",
        "\n",
        "rho = results1.params[0]\n",
        "\n",
        "u_ch = y - y_1*rho\n",
        "\n",
        "inf_1 = inf.shift(1)\n",
        "\n",
        "inf = inf - inf_1*rho\n",
        "\n",
        "inf=inf.fillna(0)\n",
        "u_ch=u_ch.fillna(0)\n",
        "\n",
        "y = u_ch\n",
        "s = np.shape(y)\n",
        "const = np.ones(s)*(1-rho)\n",
        "X = np.column_stack((const, inf))\n",
        "model=sm.OLS(y,X)\n",
        "results = model.fit()\n",
        "u=results.resid\n",
        "n=len(u)\n",
        "u_1=u[0:n-1]\n",
        "const=np.ones(n-1)\n",
        "X=np.column_stack((const, u_1))\n",
        "X=X[:,1]\n",
        "y=u[1:n]\n",
        "model=sm.OLS(y,X)\n",
        "results1 = model.fit()\n",
        "\n",
        "print(results1.summary())\n",
        "print(results1.params[0])"
      ]
    },
    {
      "cell_type": "markdown",
      "metadata": {
        "id": "90xEaMNMs4Vw"
      },
      "source": [
        "### 9. Tester la stabilité de la relation chômage-inflation sur deux sous-périodes de taille identique."
      ]
    },
    {
      "cell_type": "code",
      "execution_count": null,
      "metadata": {
        "id": "WjTRDGDrs4Vx"
      },
      "outputs": [],
      "source": [
        "inf = df.CPI.pct_change()*100\n",
        "inf = inf.fillna(0)"
      ]
    },
    {
      "cell_type": "code",
      "execution_count": null,
      "metadata": {
        "id": "72mc66ETs4Vx"
      },
      "outputs": [],
      "source": [
        "ch1 = df['Unemp'][:int(len(df['Unemp'])/2)]\n",
        "ch2 = df['Unemp'][int(len(df['Unemp'])/2):]\n",
        "\n",
        "inf1 = inf[:int(len(inf)/2)]\n",
        "inf2 = inf[int(len(inf)/2):]"
      ]
    },
    {
      "cell_type": "code",
      "execution_count": null,
      "metadata": {
        "id": "ZE4bpY2Es4Vx"
      },
      "outputs": [],
      "source": [
        "y = ch1\n",
        "s1 = np.shape(y)\n",
        "const = np.ones(s1)\n",
        "X = np.column_stack((const, inf1))\n",
        "model=sm.OLS(y,X)\n",
        "results = model.fit()\n",
        "ssr0_ch1 = results.ssr\n",
        "p1 = results.f_pvalue\n",
        "\n",
        "y = ch2\n",
        "s2 = np.shape(y)\n",
        "const = np.ones(s2)\n",
        "X = np.column_stack((const, inf2))\n",
        "model=sm.OLS(y,X)\n",
        "results = model.fit()\n",
        "ssr0_ch2 = results.ssr\n",
        "p2 = results.f_pvalue\n",
        "\n",
        "ssr0 = ssr0_ch1 + ssr0_ch2\n",
        "\n",
        "y = df['Unemp']\n",
        "s = np.shape(y)\n",
        "const = np.ones(s)\n",
        "X = np.column_stack((const, inf))\n",
        "model=sm.OLS(y,X)\n",
        "results = model.fit()\n",
        "ssr1 = results.ssr\n",
        "p3 = results.f_pvalue"
      ]
    },
    {
      "cell_type": "code",
      "execution_count": null,
      "metadata": {
        "id": "WdyqOySKs4Vy",
        "outputId": "5c438abb-edc4-4a00-c9d8-459ee9491c56"
      },
      "outputs": [
        {
          "name": "stdout",
          "output_type": "stream",
          "text": [
            "0.36193023177752326 0.07153561587418138 0.8719574649301114\n"
          ]
        }
      ],
      "source": [
        "print(p1,p2,p3)"
      ]
    },
    {
      "cell_type": "code",
      "execution_count": null,
      "metadata": {
        "id": "5Q1saH7ks4Vy"
      },
      "outputs": [],
      "source": [
        "from scipy.stats import f\n",
        "s1=s1[0]\n",
        "s2=s2[0]\n",
        "k=2\n",
        "F=(ssr1-ssr0)/ssr0 * (s1+s2 - 2*k)/k\n",
        "p_value = f.sf(F,k,s1+s2 -2*k)"
      ]
    },
    {
      "cell_type": "code",
      "execution_count": null,
      "metadata": {
        "scrolled": true,
        "id": "I57ttHyNs4Vy",
        "outputId": "cdc9df65-7078-4956-d370-229f9bc2ac51"
      },
      "outputs": [
        {
          "data": {
            "text/plain": [
              "0.13856913986617442"
            ]
          },
          "execution_count": 14,
          "metadata": {},
          "output_type": "execute_result"
        }
      ],
      "source": [
        "p_value"
      ]
    },
    {
      "cell_type": "markdown",
      "metadata": {
        "id": "Rf0C97TWs4Vz"
      },
      "source": [
        "By the tests above, we fail to reject the hypotesis of non significance of inflation over unemployment. In the 3 tests (first middle of the sample, second middle of the sample, whole sample) the p-value was above 0.05"
      ]
    },
    {
      "cell_type": "markdown",
      "metadata": {
        "id": "B13Zt6u9s4Vz"
      },
      "source": [
        "### 10. Estimer la courbe de Philips en supprimant l'inflation courante des variables explicatives mais en ajoutant les délais d’ordre 1, 2, 3 et 4 de l’inflation et du chômage. Faire le test de Granger de non causalité de l’inflation sur le chômage. Donnez la p-valeur."
      ]
    },
    {
      "cell_type": "code",
      "execution_count": null,
      "metadata": {
        "id": "tH680a-vs4Vz",
        "outputId": "56390328-d997-432f-b6a8-0c87c0a93535"
      },
      "outputs": [
        {
          "name": "stdout",
          "output_type": "stream",
          "text": [
            "F:  0.12077382981986592\n",
            "p-value:  0.9876604433559576\n"
          ]
        }
      ],
      "source": [
        "inf = df.CPI.pct_change()*100\n",
        "inf = inf.fillna(0)\n",
        "\n",
        "y = df['Unemp']\n",
        "\n",
        "n = len(inf)\n",
        "\n",
        "inf_1 = inf.shift(-1).reset_index(drop=True)\n",
        "inf_2 = inf.shift(-2).reset_index(drop=True)\n",
        "inf_3 = inf.shift(-3).reset_index(drop=True)\n",
        "inf_4 = inf.shift(-4).reset_index(drop=True)\n",
        "\n",
        "y=y[:-4]\n",
        "inf_0=inf[:-4]\n",
        "inf_1=inf_1[:-4]\n",
        "inf_2=inf_2[:-4]\n",
        "inf_3=inf_3[:-4]\n",
        "inf_4=inf_4[:-4]\n",
        "\n",
        "s = np.shape(y)\n",
        "const = np.ones(s)\n",
        "X = np.column_stack((const, inf_0, inf_1, inf_2, inf_3, inf_4))\n",
        "model=sm.OLS(y,X)\n",
        "results = model.fit()\n",
        "print('F: ', results.fvalue)\n",
        "print('p-value: ', results.f_pvalue)"
      ]
    },
    {
      "cell_type": "markdown",
      "metadata": {
        "id": "WfDFy88vs4V0"
      },
      "source": [
        "### 11. Représentez graphiquement les délais distribués et commentez. Calculer l’impact à long de terme de l’inflation sur le chômage."
      ]
    },
    {
      "cell_type": "code",
      "execution_count": null,
      "metadata": {
        "id": "vPoVch4Ms4V0",
        "outputId": "c0741243-f13a-45ac-d4c1-63adfd1c0c33"
      },
      "outputs": [
        {
          "data": {
            "text/plain": [
              "<BarContainer object of 5 artists>"
            ]
          },
          "execution_count": 16,
          "metadata": {},
          "output_type": "execute_result"
        },
        {
          "data": {
            "image/png": "[encoded data removed]",
            "text/plain": [
              "<Figure size 432x288 with 1 Axes>"
            ]
          },
          "metadata": {
            "needs_background": "light"
          },
          "output_type": "display_data"
        }
      ],
      "source": [
        "d_inf=(results.params[1], results.params[2], results.params[3], results.params[4], results.params[5]) \n",
        "x=(1,2,3,4,5)\n",
        "plt.bar(x,d_inf)"
      ]
    },
    {
      "cell_type": "code",
      "execution_count": null,
      "metadata": {
        "id": "RmzN-kpis4V1",
        "outputId": "45fcca3a-0e23-44cf-b8c9-4fb30eab58bc"
      },
      "outputs": [
        {
          "data": {
            "text/html": [
              "<table class=\"simpletable\">\n",
              "<caption>OLS Regression Results</caption>\n",
              "<tr>\n",
              "  <th>Dep. Variable:</th>          <td>Unemp</td>      <th>  R-squared:         </th> <td>   0.003</td>\n",
              "</tr>\n",
              "<tr>\n",
              "  <th>Model:</th>                   <td>OLS</td>       <th>  Adj. R-squared:    </th> <td>  -0.022</td>\n",
              "</tr>\n",
              "<tr>\n",
              "  <th>Method:</th>             <td>Least Squares</td>  <th>  F-statistic:       </th> <td>  0.1208</td>\n",
              "</tr>\n",
              "<tr>\n",
              "  <th>Date:</th>             <td>Sun, 22 Nov 2020</td> <th>  Prob (F-statistic):</th>  <td> 0.988</td> \n",
              "</tr>\n",
              "<tr>\n",
              "  <th>Time:</th>                 <td>22:41:02</td>     <th>  Log-Likelihood:    </th> <td> -392.81</td>\n",
              "</tr>\n",
              "<tr>\n",
              "  <th>No. Observations:</th>      <td>   208</td>      <th>  AIC:               </th> <td>   797.6</td>\n",
              "</tr>\n",
              "<tr>\n",
              "  <th>Df Residuals:</th>          <td>   202</td>      <th>  BIC:               </th> <td>   817.6</td>\n",
              "</tr>\n",
              "<tr>\n",
              "  <th>Df Model:</th>              <td>     5</td>      <th>                     </th>     <td> </td>   \n",
              "</tr>\n",
              "<tr>\n",
              "  <th>Covariance Type:</th>      <td>nonrobust</td>    <th>                     </th>     <td> </td>   \n",
              "</tr>\n",
              "</table>\n",
              "<table class=\"simpletable\">\n",
              "<tr>\n",
              "    <td></td>       <th>coef</th>     <th>std err</th>      <th>t</th>      <th>P>|t|</th>  <th>[0.025</th>    <th>0.975]</th>  \n",
              "</tr>\n",
              "<tr>\n",
              "  <th>const</th> <td>    6.0406</td> <td>    0.201</td> <td>   30.055</td> <td> 0.000</td> <td>    5.644</td> <td>    6.437</td>\n",
              "</tr>\n",
              "<tr>\n",
              "  <th>x1</th>    <td>    0.1617</td> <td>    0.238</td> <td>    0.681</td> <td> 0.497</td> <td>   -0.307</td> <td>    0.630</td>\n",
              "</tr>\n",
              "<tr>\n",
              "  <th>x2</th>    <td>   -0.0559</td> <td>    0.277</td> <td>   -0.202</td> <td> 0.840</td> <td>   -0.602</td> <td>    0.490</td>\n",
              "</tr>\n",
              "<tr>\n",
              "  <th>x3</th>    <td>    0.0244</td> <td>    0.266</td> <td>    0.092</td> <td> 0.927</td> <td>   -0.500</td> <td>    0.549</td>\n",
              "</tr>\n",
              "<tr>\n",
              "  <th>x4</th>    <td>   -0.0668</td> <td>    0.278</td> <td>   -0.240</td> <td> 0.810</td> <td>   -0.615</td> <td>    0.481</td>\n",
              "</tr>\n",
              "<tr>\n",
              "  <th>x5</th>    <td>   -0.0598</td> <td>    0.239</td> <td>   -0.250</td> <td> 0.803</td> <td>   -0.532</td> <td>    0.412</td>\n",
              "</tr>\n",
              "</table>\n",
              "<table class=\"simpletable\">\n",
              "<tr>\n",
              "  <th>Omnibus:</th>       <td>16.634</td> <th>  Durbin-Watson:     </th> <td>   0.050</td>\n",
              "</tr>\n",
              "<tr>\n",
              "  <th>Prob(Omnibus):</th> <td> 0.000</td> <th>  Jarque-Bera (JB):  </th> <td>  18.651</td>\n",
              "</tr>\n",
              "<tr>\n",
              "  <th>Skew:</th>          <td> 0.731</td> <th>  Prob(JB):          </th> <td>8.91e-05</td>\n",
              "</tr>\n",
              "<tr>\n",
              "  <th>Kurtosis:</th>      <td> 3.123</td> <th>  Cond. No.          </th> <td>    9.65</td>\n",
              "</tr>\n",
              "</table><br/><br/>Warnings:<br/>[1] Standard Errors assume that the covariance matrix of the errors is correctly specified."
            ],
            "text/plain": [
              "<class 'statsmodels.iolib.summary.Summary'>\n",
              "\"\"\"\n",
              "                            OLS Regression Results                            \n",
              "==============================================================================\n",
              "Dep. Variable:                  Unemp   R-squared:                       0.003\n",
              "Model:                            OLS   Adj. R-squared:                 -0.022\n",
              "Method:                 Least Squares   F-statistic:                    0.1208\n",
              "Date:                Sun, 22 Nov 2020   Prob (F-statistic):              0.988\n",
              "Time:                        22:41:02   Log-Likelihood:                -392.81\n",
              "No. Observations:                 208   AIC:                             797.6\n",
              "Df Residuals:                     202   BIC:                             817.6\n",
              "Df Model:                           5                                         \n",
              "Covariance Type:            nonrobust                                         \n",
              "==============================================================================\n",
              "                 coef    std err          t      P>|t|      [0.025      0.975]\n",
              "------------------------------------------------------------------------------\n",
              "const          6.0406      0.201     30.055      0.000       5.644       6.437\n",
              "x1             0.1617      0.238      0.681      0.497      -0.307       0.630\n",
              "x2            -0.0559      0.277     -0.202      0.840      -0.602       0.490\n",
              "x3             0.0244      0.266      0.092      0.927      -0.500       0.549\n",
              "x4            -0.0668      0.278     -0.240      0.810      -0.615       0.481\n",
              "x5            -0.0598      0.239     -0.250      0.803      -0.532       0.412\n",
              "==============================================================================\n",
              "Omnibus:                       16.634   Durbin-Watson:                   0.050\n",
              "Prob(Omnibus):                  0.000   Jarque-Bera (JB):               18.651\n",
              "Skew:                           0.731   Prob(JB):                     8.91e-05\n",
              "Kurtosis:                       3.123   Cond. No.                         9.65\n",
              "==============================================================================\n",
              "\n",
              "Warnings:\n",
              "[1] Standard Errors assume that the covariance matrix of the errors is correctly specified.\n",
              "\"\"\""
            ]
          },
          "execution_count": 17,
          "metadata": {},
          "output_type": "execute_result"
        }
      ],
      "source": [
        "results.summary()"
      ]
    },
    {
      "cell_type": "markdown",
      "metadata": {
        "id": "_y5_8l86s4V1"
      },
      "source": [
        "The long run impact of inflaction is defined by the sum of the coefficients, the cumulative effect. \n",
        "Therefore:\n"
      ]
    },
    {
      "cell_type": "code",
      "execution_count": null,
      "metadata": {
        "id": "KKtw_erjs4V1"
      },
      "outputs": [],
      "source": [
        "lri = results.params.sum()-results.params[0]"
      ]
    },
    {
      "cell_type": "code",
      "execution_count": null,
      "metadata": {
        "id": "yi2_JH6Is4V1",
        "outputId": "a3a5e18c-592e-4d41-810c-32920c36513f"
      },
      "outputs": [
        {
          "data": {
            "text/plain": [
              "0.0035634439040910237"
            ]
          },
          "execution_count": 19,
          "metadata": {},
          "output_type": "execute_result"
        }
      ],
      "source": [
        "lri"
      ]
    }
  ],
  "metadata": {
    "kernelspec": {
      "display_name": "Python 3",
      "language": "python",
      "name": "python3"
    },
    "language_info": {
      "codemirror_mode": {
        "name": "ipython",
        "version": 3
      },
      "file_extension": ".py",
      "mimetype": "text/x-python",
      "name": "python",
      "nbconvert_exporter": "python",
      "pygments_lexer": "ipython3",
      "version": "3.8.3"
    },
    "colab": {
      "provenance": []
    }
  },
  "nbformat": 4,
  "nbformat_minor": 0
}